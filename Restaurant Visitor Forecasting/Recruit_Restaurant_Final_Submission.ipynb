{
  "nbformat": 4,
  "nbformat_minor": 0,
  "metadata": {
    "colab": {
      "name": "Recruit_Restaurant_Final_Submission.ipynb",
      "provenance": [],
      "collapsed_sections": [
        "jXNdEGavUTjI",
        "vpc9Jxj7NsW8",
        "wGCcnj99N-Ie",
        "D83AI_bUOYeL",
        "fSrB5MOGWO64",
        "MvkO68VrN4Bk",
        "ClslGOXxWoz9",
        "PRfAoSp0MZA8",
        "7jasZDD1Lk2d",
        "fpqcMvEKLySM",
        "XQEWwFlpMgQy",
        "trexCtlKWpEA",
        "QVmdf-7Ki3l5",
        "bO1-s9ePjsG8",
        "C2yUCvSWlUJd",
        "SuLbwJu3r6gG",
        "_37mmH_PvFoB",
        "XXSOt1DVw3tB",
        "wzswR_cA8xHy",
        "evvqK0Fh2Hn9",
        "DA7V8k9aK06D",
        "1oHPeYkcnd4m",
        "nXV6AZjkgicL",
        "QRDiy1Wvfg14",
        "kah8NovL5QEx"
      ]
    },
    "kernelspec": {
      "display_name": "Python 3",
      "name": "python3"
    }
  },
  "cells": [
    {
      "cell_type": "markdown",
      "metadata": {
        "id": "jXNdEGavUTjI"
      },
      "source": [
        "## Imports and loading data"
      ]
    },
    {
      "cell_type": "code",
      "metadata": {
        "id": "g8JZEB6wVhDb"
      },
      "source": [
        "#import python libraries\n",
        "import pandas as pd\n",
        "import numpy as np\n",
        "import matplotlib.pyplot as plt\n",
        "import seaborn as sns\n",
        "import xgboost as xg\n",
        "import lightgbm as lgb\n",
        "#import catboost \n",
        "from datetime import datetime as dt\n",
        "from sklearn import datasets, linear_model\n",
        "from sklearn.metrics import mean_squared_log_error, r2_score\n",
        "from sklearn.model_selection import GridSearchCV\n",
        "from sklearn.tree import DecisionTreeRegressor\n",
        "from sklearn.neighbors import KNeighborsRegressor\n",
        "from sklearn.model_selection import train_test_split \n",
        "from sklearn.model_selection import KFold\n",
        "from sklearn.ensemble import RandomForestRegressor\n",
        "from sklearn.model_selection import cross_val_score\n",
        "from sklearn.preprocessing import MinMaxScaler"
      ],
      "execution_count": 1,
      "outputs": []
    },
    {
      "cell_type": "code",
      "metadata": {
        "colab": {
          "base_uri": "https://localhost:8080/"
        },
        "id": "ZAJrlgY4VobG",
        "outputId": "7db40b13-3cef-4fae-9dbb-27d25d79beb5"
      },
      "source": [
        "#mounting google drive to load data from it\n",
        "from google.colab import drive\n",
        "drive.mount('/content/gdrive')"
      ],
      "execution_count": 2,
      "outputs": [
        {
          "output_type": "stream",
          "text": [
            "Mounted at /content/gdrive\n"
          ],
          "name": "stdout"
        }
      ]
    },
    {
      "cell_type": "code",
      "metadata": {
        "colab": {
          "base_uri": "https://localhost:8080/"
        },
        "id": "cGytZXBjM_hu",
        "outputId": "1668e8cc-a490-42af-bcbb-91b6317b4dcc"
      },
      "source": [
        "cd gdrive/My Drive/Colab Notebooks/recruit"
      ],
      "execution_count": 3,
      "outputs": [
        {
          "output_type": "stream",
          "text": [
            "/content/gdrive/My Drive/Colab Notebooks/recruit\n"
          ],
          "name": "stdout"
        }
      ]
    },
    {
      "cell_type": "code",
      "metadata": {
        "id": "qU9XXE8XVqVh"
      },
      "source": [
        "path=\"\""
      ],
      "execution_count": 4,
      "outputs": []
    },
    {
      "cell_type": "code",
      "metadata": {
        "id": "uK4PerrPVuky"
      },
      "source": [
        "# Read csv files\n",
        "air_reserve = pd.read_csv(path + 'air_reserve.csv')\n",
        "air_reserve.name=\"air_reserve\"\n",
        "air_store_info = pd.read_csv(path + 'air_store_info.csv')\n",
        "air_store_info.name=\"air_store_info\"\n",
        "air_visit_data = pd.read_csv(path + 'air_visit_data.csv')\n",
        "air_visit_data.name=\"air_visit_data\"\n",
        "hpg_reserve = pd.read_csv(path + 'hpg_reserve.csv')\n",
        "hpg_reserve.name=\"hpg_reserve\"\n",
        "hpg_store_info = pd.read_csv(path + 'hpg_store_info.csv')\n",
        "hpg_store_info.name=\"hpg_store_info\"\n",
        "store_id_relation = pd.read_csv(path + 'store_id_relation.csv')\n",
        "store_id_relation.name=\"store_relation_id\"\n",
        "date_info = pd.read_csv(path + 'date_info.csv')\n",
        "date_info.name=\"date_info\"\n",
        "sample_sub = pd.read_csv(path + 'sample_submission.csv')"
      ],
      "execution_count": 5,
      "outputs": []
    },
    {
      "cell_type": "markdown",
      "metadata": {
        "id": "vpc9Jxj7NsW8"
      },
      "source": [
        "## EDA"
      ]
    },
    {
      "cell_type": "markdown",
      "metadata": {
        "id": "wGCcnj99N-Ie"
      },
      "source": [
        "###### Checking for Missing Data"
      ]
    },
    {
      "cell_type": "code",
      "metadata": {
        "colab": {
          "base_uri": "https://localhost:8080/"
        },
        "id": "_vKsx-hHN4rV",
        "outputId": "23b2e63b-a2cc-4197-bac9-7751cce0b552"
      },
      "source": [
        "listofdf=[air_reserve,air_store_info,date_info,hpg_reserve,hpg_store_info,store_id_relation]\n",
        "for df in listofdf:\n",
        "    print(df.isnull().sum(), \"\\n\")"
      ],
      "execution_count": 6,
      "outputs": [
        {
          "output_type": "stream",
          "text": [
            "air_store_id        0\n",
            "visit_datetime      0\n",
            "reserve_datetime    0\n",
            "reserve_visitors    0\n",
            "dtype: int64 \n",
            "\n",
            "air_store_id      0\n",
            "air_genre_name    0\n",
            "air_area_name     0\n",
            "latitude          0\n",
            "longitude         0\n",
            "dtype: int64 \n",
            "\n",
            "calendar_date    0\n",
            "day_of_week      0\n",
            "holiday_flg      0\n",
            "dtype: int64 \n",
            "\n",
            "hpg_store_id        0\n",
            "visit_datetime      0\n",
            "reserve_datetime    0\n",
            "reserve_visitors    0\n",
            "dtype: int64 \n",
            "\n",
            "hpg_store_id      0\n",
            "hpg_genre_name    0\n",
            "hpg_area_name     0\n",
            "latitude          0\n",
            "longitude         0\n",
            "dtype: int64 \n",
            "\n",
            "air_store_id    0\n",
            "hpg_store_id    0\n",
            "dtype: int64 \n",
            "\n"
          ],
          "name": "stdout"
        }
      ]
    },
    {
      "cell_type": "markdown",
      "metadata": {
        "id": "snhJEAzzOYkE"
      },
      "source": [
        "No missing data was found"
      ]
    },
    {
      "cell_type": "markdown",
      "metadata": {
        "id": "D83AI_bUOYeL"
      },
      "source": [
        "###### Stats of each dataset"
      ]
    },
    {
      "cell_type": "code",
      "metadata": {
        "colab": {
          "base_uri": "https://localhost:8080/"
        },
        "id": "v1YOM9YsOYZC",
        "outputId": "07c0eb28-1ad6-428a-e865-c4469efb7746"
      },
      "source": [
        "for df in listofdf:\n",
        "    print(df.name,\"\\n\")\n",
        "    print(df.describe(),\"\\n\")"
      ],
      "execution_count": 7,
      "outputs": [
        {
          "output_type": "stream",
          "text": [
            "air_reserve \n",
            "\n",
            "       reserve_visitors\n",
            "count      92378.000000\n",
            "mean           4.481749\n",
            "std            4.919669\n",
            "min            1.000000\n",
            "25%            2.000000\n",
            "50%            3.000000\n",
            "75%            5.000000\n",
            "max          100.000000 \n",
            "\n",
            "air_store_info \n",
            "\n",
            "         latitude   longitude\n",
            "count  829.000000  829.000000\n",
            "mean    35.647042  137.415311\n",
            "std      2.084659    3.650971\n",
            "min     33.211967  130.195555\n",
            "25%     34.695124  135.341564\n",
            "50%     35.658068  139.685474\n",
            "75%     35.694003  139.751599\n",
            "max     44.020632  144.273398 \n",
            "\n",
            "date_info \n",
            "\n",
            "       holiday_flg\n",
            "count   517.000000\n",
            "mean      0.067698\n",
            "std       0.251471\n",
            "min       0.000000\n",
            "25%       0.000000\n",
            "50%       0.000000\n",
            "75%       0.000000\n",
            "max       1.000000 \n",
            "\n",
            "hpg_reserve \n",
            "\n",
            "       reserve_visitors\n",
            "count      2.000320e+06\n",
            "mean       5.073785e+00\n",
            "std        5.416172e+00\n",
            "min        1.000000e+00\n",
            "25%        2.000000e+00\n",
            "50%        3.000000e+00\n",
            "75%        6.000000e+00\n",
            "max        1.000000e+02 \n",
            "\n",
            "hpg_store_info \n",
            "\n",
            "          latitude    longitude\n",
            "count  4690.000000  4690.000000\n",
            "mean     35.810261   137.675816\n",
            "std       2.138755     3.197233\n",
            "min      33.311645   130.339313\n",
            "25%      34.692109   135.498859\n",
            "50%      35.659214   139.495733\n",
            "75%      35.703381   139.737998\n",
            "max      43.774846   143.714585 \n",
            "\n",
            "store_relation_id \n",
            "\n",
            "                air_store_id          hpg_store_id\n",
            "count                    150                   150\n",
            "unique                   150                   150\n",
            "top     air_c759b6abeb552160  hpg_653238a84804d8e7\n",
            "freq                       1                     1 \n",
            "\n"
          ],
          "name": "stdout"
        }
      ]
    },
    {
      "cell_type": "markdown",
      "metadata": {
        "id": "2MQonBYxOYOQ"
      },
      "source": [
        "#### Visualization"
      ]
    },
    {
      "cell_type": "markdown",
      "metadata": {
        "id": "fSrB5MOGWO64"
      },
      "source": [
        "###### *Reservation data*"
      ]
    },
    {
      "cell_type": "code",
      "metadata": {
        "id": "4q99go0-OYIT"
      },
      "source": [
        "airres=air_reserve.copy()\n",
        "hpgres=hpg_reserve.copy()"
      ],
      "execution_count": 8,
      "outputs": []
    },
    {
      "cell_type": "code",
      "metadata": {
        "id": "Pbh5zmsoOYCS"
      },
      "source": [
        "#convert visit date and time to separate date and time columns \n",
        "airres['Dates'] = pd.to_datetime(airres['visit_datetime']).dt.date\n",
        "airres['Time'] = pd.to_datetime(airres['visit_datetime']).dt.time\n",
        "\n",
        "hpgres['Dates'] = pd.to_datetime(hpgres['visit_datetime']).dt.date\n",
        "hpgres['Time'] = pd.to_datetime(hpgres['visit_datetime']).dt.time"
      ],
      "execution_count": 9,
      "outputs": []
    },
    {
      "cell_type": "code",
      "metadata": {
        "id": "9sPDLsfVOX8N"
      },
      "source": [
        "#group the reservations by date to check the reservation trend\n",
        "group_date_air=airres.groupby(['Dates']).sum()\n",
        "group_date_hpg=hpgres.groupby(['Dates']).sum()"
      ],
      "execution_count": 10,
      "outputs": []
    },
    {
      "cell_type": "code",
      "metadata": {
        "colab": {
          "base_uri": "https://localhost:8080/",
          "height": 339
        },
        "id": "S3YCvQBgOX0U",
        "outputId": "bc4e5643-2988-4d64-a88e-8cc36efbf506"
      },
      "source": [
        "#plot reservation visitors vs date from airreserve\n",
        "sns.set(rc={'figure.figsize':(15,5)})\n",
        "group_date_air['reserve_visitors'].plot(linewidth=2);"
      ],
      "execution_count": 11,
      "outputs": [
        {
          "output_type": "display_data",
          "data": {
            "image/png": "[encoded data removed]",
            "text/plain": [
              "<Figure size 1080x360 with 1 Axes>"
            ]
          },
          "metadata": {
            "tags": []
          }
        }
      ]
    },
    {
      "cell_type": "code",
      "metadata": {
        "id": "moOzD7Ux-Knb"
      },
      "source": [
        "#There is missing data from July 2016 to November 2016 after which there is a huge spike of visitors. \n",
        "#New years time may have more number of people who go out for dining"
      ],
      "execution_count": 12,
      "outputs": []
    },
    {
      "cell_type": "code",
      "metadata": {
        "colab": {
          "base_uri": "https://localhost:8080/",
          "height": 339
        },
        "id": "IoU35a7YN4S6",
        "outputId": "9852c346-ea4f-4a0c-ba05-825ea8b25bae"
      },
      "source": [
        "#plot reservation visitors vs date from hpg_reserve\n",
        "sns.set(rc={'figure.figsize':(15,5)})\n",
        "group_date_hpg['reserve_visitors'].plot(linewidth=2);"
      ],
      "execution_count": 13,
      "outputs": [
        {
          "output_type": "display_data",
          "data": {
            "image/png": "[encoded data removed]",
            "text/plain": [
              "<Figure size 1080x360 with 1 Axes>"
            ]
          },
          "metadata": {
            "tags": []
          }
        }
      ]
    },
    {
      "cell_type": "code",
      "metadata": {
        "id": "gPv5vxWg-lA_"
      },
      "source": [
        "#Here again there is spike in January which might suggest the New Years time is popular for Dining out"
      ],
      "execution_count": 14,
      "outputs": []
    },
    {
      "cell_type": "markdown",
      "metadata": {
        "id": "MvkO68VrN4Bk"
      },
      "source": [
        "##### *Holiday info*"
      ]
    },
    {
      "cell_type": "code",
      "metadata": {
        "id": "qsLteU7EWoa4"
      },
      "source": [
        "date=date_info.copy()"
      ],
      "execution_count": 15,
      "outputs": []
    },
    {
      "cell_type": "code",
      "metadata": {
        "id": "JQCYU6tRWokM"
      },
      "source": [
        "date['holiday_flg']=date['holiday_flg'].astype(int)\n",
        "datehol=date.loc[date['holiday_flg']==1]"
      ],
      "execution_count": 16,
      "outputs": []
    },
    {
      "cell_type": "code",
      "metadata": {
        "colab": {
          "base_uri": "https://localhost:8080/",
          "height": 288
        },
        "id": "ax9TE6Q9ZnE4",
        "outputId": "6691ed86-e459-47cb-b2ba-818a0f124555"
      },
      "source": [
        "datehol.groupby('day_of_week').sum()"
      ],
      "execution_count": 17,
      "outputs": [
        {
          "output_type": "execute_result",
          "data": {
            "text/html": [
              "<div>\n",
              "<style scoped>\n",
              "    .dataframe tbody tr th:only-of-type {\n",
              "        vertical-align: middle;\n",
              "    }\n",
              "\n",
              "    .dataframe tbody tr th {\n",
              "        vertical-align: top;\n",
              "    }\n",
              "\n",
              "    .dataframe thead th {\n",
              "        text-align: right;\n",
              "    }\n",
              "</style>\n",
              "<table border=\"1\" class=\"dataframe\">\n",
              "  <thead>\n",
              "    <tr style=\"text-align: right;\">\n",
              "      <th></th>\n",
              "      <th>holiday_flg</th>\n",
              "    </tr>\n",
              "    <tr>\n",
              "      <th>day_of_week</th>\n",
              "      <th></th>\n",
              "    </tr>\n",
              "  </thead>\n",
              "  <tbody>\n",
              "    <tr>\n",
              "      <th>Friday</th>\n",
              "      <td>5</td>\n",
              "    </tr>\n",
              "    <tr>\n",
              "      <th>Monday</th>\n",
              "      <td>9</td>\n",
              "    </tr>\n",
              "    <tr>\n",
              "      <th>Saturday</th>\n",
              "      <td>5</td>\n",
              "    </tr>\n",
              "    <tr>\n",
              "      <th>Sunday</th>\n",
              "      <td>4</td>\n",
              "    </tr>\n",
              "    <tr>\n",
              "      <th>Thursday</th>\n",
              "      <td>7</td>\n",
              "    </tr>\n",
              "    <tr>\n",
              "      <th>Tuesday</th>\n",
              "      <td>2</td>\n",
              "    </tr>\n",
              "    <tr>\n",
              "      <th>Wednesday</th>\n",
              "      <td>3</td>\n",
              "    </tr>\n",
              "  </tbody>\n",
              "</table>\n",
              "</div>"
            ],
            "text/plain": [
              "             holiday_flg\n",
              "day_of_week             \n",
              "Friday                 5\n",
              "Monday                 9\n",
              "Saturday               5\n",
              "Sunday                 4\n",
              "Thursday               7\n",
              "Tuesday                2\n",
              "Wednesday              3"
            ]
          },
          "metadata": {
            "tags": []
          },
          "execution_count": 17
        }
      ]
    },
    {
      "cell_type": "code",
      "metadata": {
        "colab": {
          "base_uri": "https://localhost:8080/",
          "height": 357
        },
        "id": "7vZUCHfBY_hN",
        "outputId": "9588c2c5-7561-4594-fcfa-8e89a1708eb3"
      },
      "source": [
        "sns.countplot(data=datehol.groupby('day_of_week').mean(),x=datehol.day_of_week)\n",
        "#count of holidays vs day of week\n",
        "#monday has the hightest number of holidays"
      ],
      "execution_count": 18,
      "outputs": [
        {
          "output_type": "execute_result",
          "data": {
            "text/plain": [
              "<matplotlib.axes._subplots.AxesSubplot at 0x7ff3dbe0fb00>"
            ]
          },
          "metadata": {
            "tags": []
          },
          "execution_count": 18
        },
        {
          "output_type": "display_data",
          "data": {
            "image/png": "[encoded data removed]",
            "text/plain": [
              "<Figure size 1080x360 with 1 Axes>"
            ]
          },
          "metadata": {
            "tags": []
          }
        }
      ]
    },
    {
      "cell_type": "markdown",
      "metadata": {
        "id": "ClslGOXxWoz9"
      },
      "source": [
        "##### *Store id vs visitors*"
      ]
    },
    {
      "cell_type": "code",
      "metadata": {
        "id": "zQqD-yQ8dmOU",
        "colab": {
          "base_uri": "https://localhost:8080/",
          "height": 358
        },
        "outputId": "c0fbdf08-46c2-4750-8ffd-85f61fee01ed"
      },
      "source": [
        "air_visit=air_visit_data.copy()\n",
        "# air_Visit group by air_store_id\n",
        "group_id_air_visit=air_visit.groupby(['air_store_id']).sum()\n",
        "group_id_air_visit=group_id_air_visit.sort_values(by='visitors',ascending=False)\n",
        "group_id_air_visit.plot()\n",
        "\n",
        "#air store id vs total no of visitors"
      ],
      "execution_count": 19,
      "outputs": [
        {
          "output_type": "execute_result",
          "data": {
            "text/plain": [
              "<matplotlib.axes._subplots.AxesSubplot at 0x7ff3db882518>"
            ]
          },
          "metadata": {
            "tags": []
          },
          "execution_count": 19
        },
        {
          "output_type": "display_data",
          "data": {
            "image/png": "[encoded data removed]",
            "text/plain": [
              "<Figure size 1080x360 with 1 Axes>"
            ]
          },
          "metadata": {
            "tags": []
          }
        }
      ]
    },
    {
      "cell_type": "markdown",
      "metadata": {
        "id": "C4vX3FP1DNHT"
      },
      "source": [
        "######*Number of visitors and time*"
      ]
    },
    {
      "cell_type": "code",
      "metadata": {
        "colab": {
          "base_uri": "https://localhost:8080/",
          "height": 357
        },
        "id": "ZbOuqcBrI9u7",
        "outputId": "b974edf4-a773-4f22-e3c9-7f11906ee73e"
      },
      "source": [
        "visitors_time=airres[['Time','reserve_visitors']]\n",
        "group_visitors_time=visitors_time.groupby('Time').sum()\n",
        "group_visitors_time.plot()\n",
        "\n",
        "# time of day vs total number of visitors\n",
        "# we can see the number of visitors peak at after 6pm "
      ],
      "execution_count": 20,
      "outputs": [
        {
          "output_type": "execute_result",
          "data": {
            "text/plain": [
              "<matplotlib.axes._subplots.AxesSubplot at 0x7ff3db800ac8>"
            ]
          },
          "metadata": {
            "tags": []
          },
          "execution_count": 20
        },
        {
          "output_type": "display_data",
          "data": {
            "image/png": "[encoded data removed]",
            "text/plain": [
              "<Figure size 1080x360 with 1 Axes>"
            ]
          },
          "metadata": {
            "tags": []
          }
        }
      ]
    },
    {
      "cell_type": "markdown",
      "metadata": {
        "id": "PRfAoSp0MZA8"
      },
      "source": [
        "##### *Area and Genre*"
      ]
    },
    {
      "cell_type": "code",
      "metadata": {
        "id": "hEcywrZiJwTV"
      },
      "source": [
        "air_res_store=pd.merge(airres,air_store_info,on='air_store_id', how='inner')\n",
        "air=pd.merge(air_res_store,air_visit,on='air_store_id',how='inner')"
      ],
      "execution_count": 21,
      "outputs": []
    },
    {
      "cell_type": "code",
      "metadata": {
        "colab": {
          "base_uri": "https://localhost:8080/",
          "height": 515
        },
        "id": "UcVBkvlUJ9fG",
        "outputId": "5ae340a6-542b-4c16-f401-794997d6b3ba"
      },
      "source": [
        "g_genre=air.groupby('air_genre_name')\n",
        "df=g_genre['visitors'].count().sort_values().plot(kind='bar',align='center')\n",
        "# Genre vs Number of visitors"
      ],
      "execution_count": 22,
      "outputs": [
        {
          "output_type": "display_data",
          "data": {
            "image/png": "[encoded data removed]",
            "text/plain": [
              "<Figure size 1080x360 with 1 Axes>"
            ]
          },
          "metadata": {
            "tags": []
          }
        }
      ]
    },
    {
      "cell_type": "code",
      "metadata": {
        "colab": {
          "base_uri": "https://localhost:8080/",
          "height": 615
        },
        "id": "tA54VdfqKrP4",
        "outputId": "1fa6d40e-8c3c-472e-c924-a98451441943"
      },
      "source": [
        "#visitors based on area name\n",
        "g_genre=air.groupby('air_area_name')\n",
        "df=g_genre['visitors'].count().sort_values().plot(kind='bar',align='center')\n",
        "# area vs no of visitors"
      ],
      "execution_count": 23,
      "outputs": [
        {
          "output_type": "display_data",
          "data": {
            "image/png": "[encoded data removed]",
            "text/plain": [
              "<Figure size 1080x360 with 1 Axes>"
            ]
          },
          "metadata": {
            "tags": []
          }
        }
      ]
    },
    {
      "cell_type": "code",
      "metadata": {
        "colab": {
          "base_uri": "https://localhost:8080/",
          "height": 575
        },
        "id": "lB5yBYaNKDt3",
        "outputId": "187b6749-2853-45a4-b699-82e48425ab50"
      },
      "source": [
        "#top 15 areas with max restaurants\n",
        "temp=air_store_info.air_area_name.value_counts()\n",
        "temp[:15].sort_values().plot(kind='bar')"
      ],
      "execution_count": 24,
      "outputs": [
        {
          "output_type": "execute_result",
          "data": {
            "text/plain": [
              "<matplotlib.axes._subplots.AxesSubplot at 0x7ff3db5a7748>"
            ]
          },
          "metadata": {
            "tags": []
          },
          "execution_count": 24
        },
        {
          "output_type": "display_data",
          "data": {
            "image/png": "[encoded data removed]",
            "text/plain": [
              "<Figure size 1080x360 with 1 Axes>"
            ]
          },
          "metadata": {
            "tags": []
          }
        }
      ]
    },
    {
      "cell_type": "code",
      "metadata": {
        "id": "HQ8qRKdVK7Zv"
      },
      "source": [
        "visits_dates=pd.merge(air_visit,date,left_on='visit_date', right_on='calendar_date',how='left')"
      ],
      "execution_count": 25,
      "outputs": []
    },
    {
      "cell_type": "markdown",
      "metadata": {
        "id": "7jasZDD1Lk2d"
      },
      "source": [
        "##### *Trend of visitors if its a holiday*"
      ]
    },
    {
      "cell_type": "code",
      "metadata": {
        "colab": {
          "base_uri": "https://localhost:8080/",
          "height": 357
        },
        "id": "xjbTUI-oLRLt",
        "outputId": "65347a13-58b1-4656-cd40-aa3f9a1940b3"
      },
      "source": [
        "visits_dates_grp=visits_dates.loc[visits_dates['holiday_flg']==1]\n",
        "sns.countplot(data=visits_dates_grp,x=visits_dates_grp.day_of_week)\n",
        "#mondays are popular if its a holiday"
      ],
      "execution_count": 26,
      "outputs": [
        {
          "output_type": "execute_result",
          "data": {
            "text/plain": [
              "<matplotlib.axes._subplots.AxesSubplot at 0x7ff3d9c6ff28>"
            ]
          },
          "metadata": {
            "tags": []
          },
          "execution_count": 26
        },
        {
          "output_type": "display_data",
          "data": {
            "image/png": "[encoded data removed]",
            "text/plain": [
              "<Figure size 1080x360 with 1 Axes>"
            ]
          },
          "metadata": {
            "tags": []
          }
        }
      ]
    },
    {
      "cell_type": "markdown",
      "metadata": {
        "id": "fpqcMvEKLySM"
      },
      "source": [
        "##### *Trend of visitors if its not a holiday*"
      ]
    },
    {
      "cell_type": "code",
      "metadata": {
        "colab": {
          "base_uri": "https://localhost:8080/",
          "height": 357
        },
        "id": "bMQIQ4KyLV1M",
        "outputId": "76e24885-254e-438f-860a-11f334f1dccd"
      },
      "source": [
        "visits_dates_grp_normal=visits_dates.loc[visits_dates['holiday_flg']==0]\n",
        "sns.countplot(data=visits_dates_grp_normal,x=visits_dates_grp_normal.day_of_week)\n",
        "#friday is the most popular choice for a non holiday while monday is the least popular"
      ],
      "execution_count": 27,
      "outputs": [
        {
          "output_type": "execute_result",
          "data": {
            "text/plain": [
              "<matplotlib.axes._subplots.AxesSubplot at 0x7ff3d9be4c18>"
            ]
          },
          "metadata": {
            "tags": []
          },
          "execution_count": 27
        },
        {
          "output_type": "display_data",
          "data": {
            "image/png": "[encoded data removed]",
            "text/plain": [
              "<Figure size 1080x360 with 1 Axes>"
            ]
          },
          "metadata": {
            "tags": []
          }
        }
      ]
    },
    {
      "cell_type": "markdown",
      "metadata": {
        "id": "XQEWwFlpMgQy"
      },
      "source": [
        "##### *Genre and date*"
      ]
    },
    {
      "cell_type": "code",
      "metadata": {
        "id": "rX8bmnbJMwLy"
      },
      "source": [
        "visits_genre=pd.merge(air_visit,air_store_info,left_on='air_store_id', right_on='air_store_id',how='left')\n",
        "visits_genre=visits_genre.drop(['latitude', 'longitude','air_area_name','air_store_id'], axis=1)"
      ],
      "execution_count": 28,
      "outputs": []
    },
    {
      "cell_type": "code",
      "metadata": {
        "id": "BTRlPcjLNHcG"
      },
      "source": [
        "visits_genre['visit_date'] = pd.to_datetime(visits_genre.visit_date)\n",
        "visits_genre['visit_date'] = visits_genre['visit_date'].dt.strftime('%Y-%m')\n",
        "visits_genre_grp=visits_genre.groupby('air_genre_name').count()\n"
      ],
      "execution_count": 29,
      "outputs": []
    },
    {
      "cell_type": "code",
      "metadata": {
        "colab": {
          "base_uri": "https://localhost:8080/",
          "height": 498
        },
        "id": "BWwYpPtbNMaY",
        "outputId": "bfc21a0d-bf1d-4d6c-94a2-88632a0e3f0c"
      },
      "source": [
        "visits_genre_grp_sum=visits_genre.groupby('air_genre_name').sum()\n",
        "visits_genre_grp_sum['Count of each cuisine'] = visits_genre_grp['visitors']\n",
        "visits_genre_grp_sum['Avg Visitors'] = visits_genre_grp_sum['visitors']/visits_genre_grp_sum['Count of each cuisine']\n",
        "visits_genre_grp_sum.sort_values(by=['Avg Visitors'], ascending=False)"
      ],
      "execution_count": 30,
      "outputs": [
        {
          "output_type": "execute_result",
          "data": {
            "text/html": [
              "<div>\n",
              "<style scoped>\n",
              "    .dataframe tbody tr th:only-of-type {\n",
              "        vertical-align: middle;\n",
              "    }\n",
              "\n",
              "    .dataframe tbody tr th {\n",
              "        vertical-align: top;\n",
              "    }\n",
              "\n",
              "    .dataframe thead th {\n",
              "        text-align: right;\n",
              "    }\n",
              "</style>\n",
              "<table border=\"1\" class=\"dataframe\">\n",
              "  <thead>\n",
              "    <tr style=\"text-align: right;\">\n",
              "      <th></th>\n",
              "      <th>visitors</th>\n",
              "      <th>Count of each cuisine</th>\n",
              "      <th>Avg Visitors</th>\n",
              "    </tr>\n",
              "    <tr>\n",
              "      <th>air_genre_name</th>\n",
              "      <th></th>\n",
              "      <th></th>\n",
              "      <th></th>\n",
              "    </tr>\n",
              "  </thead>\n",
              "  <tbody>\n",
              "    <tr>\n",
              "      <th>Asian</th>\n",
              "      <td>20730</td>\n",
              "      <td>535</td>\n",
              "      <td>38.747664</td>\n",
              "    </tr>\n",
              "    <tr>\n",
              "      <th>Karaoke/Party</th>\n",
              "      <td>15476</td>\n",
              "      <td>516</td>\n",
              "      <td>29.992248</td>\n",
              "    </tr>\n",
              "    <tr>\n",
              "      <th>International cuisine</th>\n",
              "      <td>9378</td>\n",
              "      <td>372</td>\n",
              "      <td>25.209677</td>\n",
              "    </tr>\n",
              "    <tr>\n",
              "      <th>Creative cuisine</th>\n",
              "      <td>91285</td>\n",
              "      <td>3868</td>\n",
              "      <td>23.600052</td>\n",
              "    </tr>\n",
              "    <tr>\n",
              "      <th>Izakaya</th>\n",
              "      <td>1432337</td>\n",
              "      <td>62052</td>\n",
              "      <td>23.082850</td>\n",
              "    </tr>\n",
              "    <tr>\n",
              "      <th>Okonomiyaki/Monja/Teppanyaki</th>\n",
              "      <td>83797</td>\n",
              "      <td>3706</td>\n",
              "      <td>22.611171</td>\n",
              "    </tr>\n",
              "    <tr>\n",
              "      <th>Cafe/Sweets</th>\n",
              "      <td>1192802</td>\n",
              "      <td>52764</td>\n",
              "      <td>22.606360</td>\n",
              "    </tr>\n",
              "    <tr>\n",
              "      <th>Italian/French</th>\n",
              "      <td>677737</td>\n",
              "      <td>30011</td>\n",
              "      <td>22.582953</td>\n",
              "    </tr>\n",
              "    <tr>\n",
              "      <th>Western food</th>\n",
              "      <td>109086</td>\n",
              "      <td>4897</td>\n",
              "      <td>22.276087</td>\n",
              "    </tr>\n",
              "    <tr>\n",
              "      <th>Yakiniku/Korean food</th>\n",
              "      <td>149182</td>\n",
              "      <td>7025</td>\n",
              "      <td>21.235872</td>\n",
              "    </tr>\n",
              "    <tr>\n",
              "      <th>Other</th>\n",
              "      <td>163781</td>\n",
              "      <td>8246</td>\n",
              "      <td>19.861872</td>\n",
              "    </tr>\n",
              "    <tr>\n",
              "      <th>Japanese food</th>\n",
              "      <td>367352</td>\n",
              "      <td>18789</td>\n",
              "      <td>19.551440</td>\n",
              "    </tr>\n",
              "    <tr>\n",
              "      <th>Dining bar</th>\n",
              "      <td>640195</td>\n",
              "      <td>34192</td>\n",
              "      <td>18.723532</td>\n",
              "    </tr>\n",
              "    <tr>\n",
              "      <th>Bar/Cocktail</th>\n",
              "      <td>334515</td>\n",
              "      <td>25135</td>\n",
              "      <td>13.308733</td>\n",
              "    </tr>\n",
              "  </tbody>\n",
              "</table>\n",
              "</div>"
            ],
            "text/plain": [
              "                              visitors  Count of each cuisine  Avg Visitors\n",
              "air_genre_name                                                             \n",
              "Asian                            20730                    535     38.747664\n",
              "Karaoke/Party                    15476                    516     29.992248\n",
              "International cuisine             9378                    372     25.209677\n",
              "Creative cuisine                 91285                   3868     23.600052\n",
              "Izakaya                        1432337                  62052     23.082850\n",
              "Okonomiyaki/Monja/Teppanyaki     83797                   3706     22.611171\n",
              "Cafe/Sweets                    1192802                  52764     22.606360\n",
              "Italian/French                  677737                  30011     22.582953\n",
              "Western food                    109086                   4897     22.276087\n",
              "Yakiniku/Korean food            149182                   7025     21.235872\n",
              "Other                           163781                   8246     19.861872\n",
              "Japanese food                   367352                  18789     19.551440\n",
              "Dining bar                      640195                  34192     18.723532\n",
              "Bar/Cocktail                    334515                  25135     13.308733"
            ]
          },
          "metadata": {
            "tags": []
          },
          "execution_count": 30
        }
      ]
    },
    {
      "cell_type": "code",
      "metadata": {
        "colab": {
          "base_uri": "https://localhost:8080/",
          "height": 357
        },
        "id": "gBcbEVszNVEs",
        "outputId": "e5a53c36-ab5e-4224-8b23-fc44d2b669f8"
      },
      "source": [
        "visits_genre.groupby(['visit_date']).sum().plot(linewidth=2)"
      ],
      "execution_count": 32,
      "outputs": [
        {
          "output_type": "execute_result",
          "data": {
            "text/plain": [
              "<matplotlib.axes._subplots.AxesSubplot at 0x7ff3d9c67e80>"
            ]
          },
          "metadata": {
            "tags": []
          },
          "execution_count": 32
        },
        {
          "output_type": "display_data",
          "data": {
            "image/png": "[encoded data removed]",
            "text/plain": [
              "<Figure size 1080x360 with 1 Axes>"
            ]
          },
          "metadata": {
            "tags": []
          }
        }
      ]
    },
    {
      "cell_type": "markdown",
      "metadata": {
        "id": "trexCtlKWpEA"
      },
      "source": [
        "## Feature Engineering"
      ]
    },
    {
      "cell_type": "markdown",
      "metadata": {
        "id": "QVmdf-7Ki3l5"
      },
      "source": [
        "###### *Reservation Data*"
      ]
    },
    {
      "cell_type": "code",
      "metadata": {
        "id": "t2gKXGdIVv6p"
      },
      "source": [
        "# combine air and hpg Reserve databases \n",
        "hpg_air_reserve = store_id_relation.join(hpg_reserve.set_index('hpg_store_id'), on = 'hpg_store_id')\n",
        "temp_air_reserve = air_reserve.copy()\n",
        "#dropping hpg_store_id since its counter air_store_id is present\n",
        "hpg_air_reserve = hpg_air_reserve.drop('hpg_store_id', axis = 1)\n",
        "#concatenating the entire reserve data together \n",
        "reserve = pd.concat([temp_air_reserve, hpg_air_reserve])"
      ],
      "execution_count": 33,
      "outputs": []
    },
    {
      "cell_type": "code",
      "metadata": {
        "id": "45v27o3h-WzB"
      },
      "source": [
        "# convert columns of \"reserve\" table into datetime format\n",
        "reserve['visit_datetime'] =  pd.to_datetime(reserve['visit_datetime'])\n",
        "reserve['reserve_datetime'] =  pd.to_datetime(reserve['reserve_datetime'])\n",
        "\n",
        "# create column for visit date inside \"reserve\" table (since air_visit_data has the visit_date only and not the time, we'll need this columns while merging)\n",
        "reserve['visit_date'] = reserve['visit_datetime'].apply(lambda x: str(x)[0:10])\n",
        "\n",
        "# calculate the gap between visit time and reservation time inside \"reserve\" table\n",
        "reserve['hour_gap'] = reserve['visit_datetime'].sub(reserve['reserve_datetime'])\n",
        "reserve['hour_gap'] = reserve['hour_gap'].apply(lambda x: x/np.timedelta64(1,'h'))"
      ],
      "execution_count": 34,
      "outputs": []
    },
    {
      "cell_type": "code",
      "metadata": {
        "id": "rfBd4Qxo-W6i"
      },
      "source": [
        "# separate reservation into 5 categories based on gap length\n",
        "# gaps are of length (0.5 day, 1 day, 1 day, 1 day, remaining time) \n",
        "reserve['reserve_-12_h'] = np.where(reserve['hour_gap'] <= 12,\n",
        "                                    reserve['reserve_visitors'], 0)\n",
        "reserve['reserve_12_37_h'] = np.where((reserve['hour_gap'] <= 37) & (reserve['hour_gap'] > 12),\n",
        "                                       reserve['reserve_visitors'], 0)\n",
        "reserve['reserve_37_59_h'] = np.where((reserve['hour_gap'] <= 59) & (reserve['hour_gap'] > 37),\n",
        "                                       reserve['reserve_visitors'], 0)\n",
        "reserve['reserve_59_85_h'] = np.where((reserve['hour_gap'] <= 85) & (reserve['hour_gap'] > 59),\n",
        "                                       reserve['reserve_visitors'], 0)\n",
        "reserve['reserve_85+_h'] = np.where((reserve['hour_gap'] > 85),\n",
        "                                     reserve['reserve_visitors'], 0)"
      ],
      "execution_count": 35,
      "outputs": []
    },
    {
      "cell_type": "code",
      "metadata": {
        "id": "Ythu3tkG-XBB"
      },
      "source": [
        "# group by air_store_id and visit_date to enable joining with main table\n",
        "group_list = ['air_store_id', 'visit_date', 'reserve_visitors', 'reserve_-12_h',\n",
        "              'reserve_12_37_h', 'reserve_37_59_h', 'reserve_59_85_h', 'reserve_85+_h']\n",
        "\n",
        "reserve = reserve[group_list].groupby(['air_store_id', 'visit_date'], as_index = False).sum()"
      ],
      "execution_count": 36,
      "outputs": []
    },
    {
      "cell_type": "markdown",
      "metadata": {
        "id": "bO1-s9ePjsG8"
      },
      "source": [
        "###### Genre and Area"
      ]
    },
    {
      "cell_type": "code",
      "metadata": {
        "id": "kySaN7zF-XPw"
      },
      "source": [
        "# total amount of restaurants of specific genres by area_name \n",
        "# group by air genre and area name\n",
        "air_genres_in_area = air_store_info.copy()\n",
        "air_genres_in_area = air_genres_in_area[['air_store_id', 'air_genre_name', 'air_area_name']].groupby(['air_genre_name', 'air_area_name'],\n",
        "                                                                                              as_index = False).count()\n",
        "air_genres_in_area = air_genres_in_area.rename(columns = {'air_store_id': 'genre_in_area'})"
      ],
      "execution_count": 37,
      "outputs": []
    },
    {
      "cell_type": "code",
      "metadata": {
        "id": "HdgMOZxe-skR"
      },
      "source": [
        "# merge df with air_genres_in_area to ge the total restaurants of same genre in an area, with respect to store id\n",
        "def merge_genres_area(df):\n",
        "    df = pd.merge(df, air_genres_in_area, how = 'left',left_on = ['air_genre_name', 'air_area_name'],right_on = ['air_genre_name', 'air_area_name'])\n",
        "    return df"
      ],
      "execution_count": 38,
      "outputs": []
    },
    {
      "cell_type": "code",
      "metadata": {
        "id": "8CXN-igW-spY"
      },
      "source": [
        "# total amount of restaurants in area \n",
        "# group by area name and count the no of restaurants in that area\n",
        "air_area_total_ret = air_store_info.copy()\n",
        "air_area_total_ret = air_area_total_ret[['air_store_id', 'air_area_name']].groupby(['air_area_name'], as_index = False).count()\n",
        "air_area_total_ret = air_area_total_ret.rename(columns = {'air_store_id': 'total_rt_in_area'})"
      ],
      "execution_count": 39,
      "outputs": []
    },
    {
      "cell_type": "code",
      "metadata": {
        "id": "oQ2vt4JE-ssQ"
      },
      "source": [
        "# merge df with air_area_total_ret to get the total number of restaurants in an area with respect to store id\n",
        "def merge_total_rt_in_area(df):\n",
        "  df = pd.merge(df, air_area_total_ret, how = 'left',left_on = ['air_area_name'],right_on = ['air_area_name'])\n",
        "  return df;"
      ],
      "execution_count": 40,
      "outputs": []
    },
    {
      "cell_type": "markdown",
      "metadata": {
        "id": "C2yUCvSWlUJd"
      },
      "source": [
        "###### *Holidays*"
      ]
    },
    {
      "cell_type": "code",
      "metadata": {
        "id": "2alilEJV-svJ"
      },
      "source": [
        "# additional features for weekends and holidays\n",
        "date_info_mod = date_info.copy()\n",
        "date_info_mod['holiday_eve'] = np.zeros(date_info_mod.shape[0])"
      ],
      "execution_count": 41,
      "outputs": []
    },
    {
      "cell_type": "code",
      "metadata": {
        "colab": {
          "base_uri": "https://localhost:8080/",
          "height": 259
        },
        "id": "ITsGLgXi-2UU",
        "outputId": "1f8912c5-ccd8-421b-e53b-e9fe1731702a"
      },
      "source": [
        "# holiday eve feature created which marks whether the next day is a holiday or not\n",
        "date_info_mod['holiday_eve'].iloc[:-1] = date_info_mod['holiday_flg'].copy().values[1:]\n",
        "date_info_mod.head(4)"
      ],
      "execution_count": 42,
      "outputs": [
        {
          "output_type": "stream",
          "text": [
            "/usr/local/lib/python3.6/dist-packages/pandas/core/indexing.py:670: SettingWithCopyWarning: \n",
            "A value is trying to be set on a copy of a slice from a DataFrame\n",
            "\n",
            "See the caveats in the documentation: https://pandas.pydata.org/pandas-docs/stable/user_guide/indexing.html#returning-a-view-versus-a-copy\n",
            "  iloc._setitem_with_indexer(indexer, value)\n"
          ],
          "name": "stderr"
        },
        {
          "output_type": "execute_result",
          "data": {
            "text/html": [
              "<div>\n",
              "<style scoped>\n",
              "    .dataframe tbody tr th:only-of-type {\n",
              "        vertical-align: middle;\n",
              "    }\n",
              "\n",
              "    .dataframe tbody tr th {\n",
              "        vertical-align: top;\n",
              "    }\n",
              "\n",
              "    .dataframe thead th {\n",
              "        text-align: right;\n",
              "    }\n",
              "</style>\n",
              "<table border=\"1\" class=\"dataframe\">\n",
              "  <thead>\n",
              "    <tr style=\"text-align: right;\">\n",
              "      <th></th>\n",
              "      <th>calendar_date</th>\n",
              "      <th>day_of_week</th>\n",
              "      <th>holiday_flg</th>\n",
              "      <th>holiday_eve</th>\n",
              "    </tr>\n",
              "  </thead>\n",
              "  <tbody>\n",
              "    <tr>\n",
              "      <th>0</th>\n",
              "      <td>2016-01-01</td>\n",
              "      <td>Friday</td>\n",
              "      <td>1</td>\n",
              "      <td>1.0</td>\n",
              "    </tr>\n",
              "    <tr>\n",
              "      <th>1</th>\n",
              "      <td>2016-01-02</td>\n",
              "      <td>Saturday</td>\n",
              "      <td>1</td>\n",
              "      <td>1.0</td>\n",
              "    </tr>\n",
              "    <tr>\n",
              "      <th>2</th>\n",
              "      <td>2016-01-03</td>\n",
              "      <td>Sunday</td>\n",
              "      <td>1</td>\n",
              "      <td>0.0</td>\n",
              "    </tr>\n",
              "    <tr>\n",
              "      <th>3</th>\n",
              "      <td>2016-01-04</td>\n",
              "      <td>Monday</td>\n",
              "      <td>0</td>\n",
              "      <td>0.0</td>\n",
              "    </tr>\n",
              "  </tbody>\n",
              "</table>\n",
              "</div>"
            ],
            "text/plain": [
              "  calendar_date day_of_week  holiday_flg  holiday_eve\n",
              "0    2016-01-01      Friday            1          1.0\n",
              "1    2016-01-02    Saturday            1          1.0\n",
              "2    2016-01-03      Sunday            1          0.0\n",
              "3    2016-01-04      Monday            0          0.0"
            ]
          },
          "metadata": {
            "tags": []
          },
          "execution_count": 42
        }
      ]
    },
    {
      "cell_type": "code",
      "metadata": {
        "colab": {
          "base_uri": "https://localhost:8080/",
          "height": 168
        },
        "id": "7Rl_pej7-2XE",
        "outputId": "42e2954f-b18b-41e8-90d8-41adcb2114fc"
      },
      "source": [
        "# non_working_day feature indicates whether it is a working or non-working day. Includes holidays along with weekends\n",
        "date_info_mod['non_working_day'] = np.where(date_info_mod['day_of_week'].isin(['Saturday', 'Sunday']) |date_info_mod['holiday_flg'] == 1, 1, 0)\n",
        "date_info_mod.head(4)"
      ],
      "execution_count": 43,
      "outputs": [
        {
          "output_type": "execute_result",
          "data": {
            "text/html": [
              "<div>\n",
              "<style scoped>\n",
              "    .dataframe tbody tr th:only-of-type {\n",
              "        vertical-align: middle;\n",
              "    }\n",
              "\n",
              "    .dataframe tbody tr th {\n",
              "        vertical-align: top;\n",
              "    }\n",
              "\n",
              "    .dataframe thead th {\n",
              "        text-align: right;\n",
              "    }\n",
              "</style>\n",
              "<table border=\"1\" class=\"dataframe\">\n",
              "  <thead>\n",
              "    <tr style=\"text-align: right;\">\n",
              "      <th></th>\n",
              "      <th>calendar_date</th>\n",
              "      <th>day_of_week</th>\n",
              "      <th>holiday_flg</th>\n",
              "      <th>holiday_eve</th>\n",
              "      <th>non_working_day</th>\n",
              "    </tr>\n",
              "  </thead>\n",
              "  <tbody>\n",
              "    <tr>\n",
              "      <th>0</th>\n",
              "      <td>2016-01-01</td>\n",
              "      <td>Friday</td>\n",
              "      <td>1</td>\n",
              "      <td>1.0</td>\n",
              "      <td>1</td>\n",
              "    </tr>\n",
              "    <tr>\n",
              "      <th>1</th>\n",
              "      <td>2016-01-02</td>\n",
              "      <td>Saturday</td>\n",
              "      <td>1</td>\n",
              "      <td>1.0</td>\n",
              "      <td>1</td>\n",
              "    </tr>\n",
              "    <tr>\n",
              "      <th>2</th>\n",
              "      <td>2016-01-03</td>\n",
              "      <td>Sunday</td>\n",
              "      <td>1</td>\n",
              "      <td>0.0</td>\n",
              "      <td>1</td>\n",
              "    </tr>\n",
              "    <tr>\n",
              "      <th>3</th>\n",
              "      <td>2016-01-04</td>\n",
              "      <td>Monday</td>\n",
              "      <td>0</td>\n",
              "      <td>0.0</td>\n",
              "      <td>0</td>\n",
              "    </tr>\n",
              "  </tbody>\n",
              "</table>\n",
              "</div>"
            ],
            "text/plain": [
              "  calendar_date day_of_week  holiday_flg  holiday_eve  non_working_day\n",
              "0    2016-01-01      Friday            1          1.0                1\n",
              "1    2016-01-02    Saturday            1          1.0                1\n",
              "2    2016-01-03      Sunday            1          0.0                1\n",
              "3    2016-01-04      Monday            0          0.0                0"
            ]
          },
          "metadata": {
            "tags": []
          },
          "execution_count": 43
        }
      ]
    },
    {
      "cell_type": "code",
      "metadata": {
        "id": "gmIyk7xg-2Zj"
      },
      "source": [
        "# drop redundant feature holiday_flag\n",
        "date_info_mod = date_info_mod.drop('holiday_flg', axis = 1)"
      ],
      "execution_count": 44,
      "outputs": []
    },
    {
      "cell_type": "code",
      "metadata": {
        "colab": {
          "base_uri": "https://localhost:8080/",
          "height": 198
        },
        "id": "kQO4b5kz-2hc",
        "outputId": "ddd9a1ab-fd09-4d16-bf99-591b1657dbc1"
      },
      "source": [
        "# joining air_visit_data with the date_info we created above\n",
        "air_visit_wd = air_visit_data.join(date_info_mod.set_index('calendar_date'), on = 'visit_date')\n",
        "air_visit_wd.head()"
      ],
      "execution_count": 45,
      "outputs": [
        {
          "output_type": "execute_result",
          "data": {
            "text/html": [
              "<div>\n",
              "<style scoped>\n",
              "    .dataframe tbody tr th:only-of-type {\n",
              "        vertical-align: middle;\n",
              "    }\n",
              "\n",
              "    .dataframe tbody tr th {\n",
              "        vertical-align: top;\n",
              "    }\n",
              "\n",
              "    .dataframe thead th {\n",
              "        text-align: right;\n",
              "    }\n",
              "</style>\n",
              "<table border=\"1\" class=\"dataframe\">\n",
              "  <thead>\n",
              "    <tr style=\"text-align: right;\">\n",
              "      <th></th>\n",
              "      <th>air_store_id</th>\n",
              "      <th>visit_date</th>\n",
              "      <th>visitors</th>\n",
              "      <th>day_of_week</th>\n",
              "      <th>holiday_eve</th>\n",
              "      <th>non_working_day</th>\n",
              "    </tr>\n",
              "  </thead>\n",
              "  <tbody>\n",
              "    <tr>\n",
              "      <th>0</th>\n",
              "      <td>air_ba937bf13d40fb24</td>\n",
              "      <td>2016-01-13</td>\n",
              "      <td>25</td>\n",
              "      <td>Wednesday</td>\n",
              "      <td>0.0</td>\n",
              "      <td>0</td>\n",
              "    </tr>\n",
              "    <tr>\n",
              "      <th>1</th>\n",
              "      <td>air_ba937bf13d40fb24</td>\n",
              "      <td>2016-01-14</td>\n",
              "      <td>32</td>\n",
              "      <td>Thursday</td>\n",
              "      <td>0.0</td>\n",
              "      <td>0</td>\n",
              "    </tr>\n",
              "    <tr>\n",
              "      <th>2</th>\n",
              "      <td>air_ba937bf13d40fb24</td>\n",
              "      <td>2016-01-15</td>\n",
              "      <td>29</td>\n",
              "      <td>Friday</td>\n",
              "      <td>0.0</td>\n",
              "      <td>0</td>\n",
              "    </tr>\n",
              "    <tr>\n",
              "      <th>3</th>\n",
              "      <td>air_ba937bf13d40fb24</td>\n",
              "      <td>2016-01-16</td>\n",
              "      <td>22</td>\n",
              "      <td>Saturday</td>\n",
              "      <td>0.0</td>\n",
              "      <td>1</td>\n",
              "    </tr>\n",
              "    <tr>\n",
              "      <th>4</th>\n",
              "      <td>air_ba937bf13d40fb24</td>\n",
              "      <td>2016-01-18</td>\n",
              "      <td>6</td>\n",
              "      <td>Monday</td>\n",
              "      <td>0.0</td>\n",
              "      <td>0</td>\n",
              "    </tr>\n",
              "  </tbody>\n",
              "</table>\n",
              "</div>"
            ],
            "text/plain": [
              "           air_store_id  visit_date  ...  holiday_eve non_working_day\n",
              "0  air_ba937bf13d40fb24  2016-01-13  ...          0.0               0\n",
              "1  air_ba937bf13d40fb24  2016-01-14  ...          0.0               0\n",
              "2  air_ba937bf13d40fb24  2016-01-15  ...          0.0               0\n",
              "3  air_ba937bf13d40fb24  2016-01-16  ...          0.0               1\n",
              "4  air_ba937bf13d40fb24  2016-01-18  ...          0.0               0\n",
              "\n",
              "[5 rows x 6 columns]"
            ]
          },
          "metadata": {
            "tags": []
          },
          "execution_count": 45
        }
      ]
    },
    {
      "cell_type": "code",
      "metadata": {
        "id": "2SM3GM2Z-_Zp"
      },
      "source": [
        "# average visitors per restaurant by working and non-working days\n",
        "# average visitors per restaurant\n",
        "mean_of_visitors = air_visit_wd[['visitors','air_store_id','non_working_day']].copy().groupby(['air_store_id','non_working_day'],as_index = False).mean()\n",
        "mean_of_visitors = mean_of_visitors.rename(columns = {'visitors': 'nwd_mean_visitors'})\n",
        "\n",
        "\n",
        "# median visitors per restaurant\n",
        "median_of_visitors = air_visit_wd[['visitors','air_store_id','non_working_day']].copy().groupby(['air_store_id','non_working_day'],as_index = False).median()\n",
        "median_of_visitors = median_of_visitors.rename(columns = {'visitors': 'nwd_median_visitors'})\n",
        "\n",
        "\n",
        "# max visitors per restaurant\n",
        "max_visitors = air_visit_wd[['visitors','air_store_id','non_working_day']].copy().groupby(['air_store_id','non_working_day'],as_index = False).max()\n",
        "max_visitors = max_visitors.rename(columns = {'visitors': 'nwd_max_visitors'})\n"
      ],
      "execution_count": 46,
      "outputs": []
    },
    {
      "cell_type": "code",
      "metadata": {
        "id": "NiBisnF7-_cD"
      },
      "source": [
        "# merge dataframe with the calculated data -> mean median and max visitors as per restaurant\n",
        "def merge_calc_wd_data(data, calc_data):\n",
        "    data = pd.merge(data, calc_data, how = 'left',left_on = ['air_store_id', 'non_working_day'],right_on = ['air_store_id', 'non_working_day'])\n",
        "    return data"
      ],
      "execution_count": 47,
      "outputs": []
    },
    {
      "cell_type": "markdown",
      "metadata": {
        "id": "SuLbwJu3r6gG"
      },
      "source": [
        "###### *Latitude and Longitude*"
      ]
    },
    {
      "cell_type": "code",
      "metadata": {
        "id": "qMFTn4UUzCFI"
      },
      "source": [
        "# calculate the sum of latitude and longitude which is then normalized\n",
        "# calculate the difference between max latitude( or longitude )\n",
        "def longitude_latitude_calc(data):\n",
        "        \n",
        "    data['longitude_latitude_sum'] = data['latitude'] + data['longitude']\n",
        "    data['longitude_latitude_sum'] = data['longitude_latitude_sum'].apply(lambda x: np.log1p(x)) \n",
        "    \n",
        "    data['diff_max_latitude'] = data['latitude'].max() - data['latitude']\n",
        "    data['diff_max_longitude'] = data['longitude'].max() - data['longitude']\n",
        "    \n",
        "    return data"
      ],
      "execution_count": 48,
      "outputs": []
    },
    {
      "cell_type": "markdown",
      "metadata": {
        "id": "_37mmH_PvFoB"
      },
      "source": [
        "###### *Date Information*"
      ]
    },
    {
      "cell_type": "code",
      "metadata": {
        "id": "SiKfmGaSPnbv"
      },
      "source": [
        "# convert air store id + visit date into two separate columns\n",
        "# divide date into separate features: date, month, day of week, week of year\n",
        "def get_id_and_visit_date_details(X):    \n",
        "    \n",
        "    X['id'] = X['air_store_id'] + str('_') + X['visit_date']\n",
        "    \n",
        "    X['visit_date'] = pd.to_datetime(X['visit_date'],format= '%Y-%m-%d')\n",
        "    X['visit_date_month'] =X.visit_date.dt.month\n",
        "    X['visit_date_dayofw'] =X.visit_date.dt.dayofweek\n",
        "    X['visit_date_year'] =X.visit_date.dt.year\n",
        "    X['visit_date_dayofm'] =X.visit_date.dt.day\n",
        "    X['weekofyear'] =X.visit_date.dt.weekofyear\n",
        "    X.loc[X.weekofyear==53,'weekofyear'] =0 \n",
        "    return X"
      ],
      "execution_count": 49,
      "outputs": []
    },
    {
      "cell_type": "markdown",
      "metadata": {
        "id": "XXSOt1DVw3tB"
      },
      "source": [
        "###### *Merging features created till now*"
      ]
    },
    {
      "cell_type": "code",
      "metadata": {
        "id": "sWhnvuxv-_fI"
      },
      "source": [
        "# Merge all the feature engineered data\n",
        "def merge_fe_data(data):\n",
        "    # add month of visit\n",
        "    data['month'] = data['visit_date'].apply(lambda x: float(str(x)[5:7]))\n",
        "\n",
        "    # add weekday and holiday flag\n",
        "    data = data.join(date_info_mod.set_index('calendar_date'), on = 'visit_date')\n",
        "    # add genre and area name)\n",
        "    data = data.join(air_store_info.set_index('air_store_id'), on = 'air_store_id')\n",
        "    # add quantity of same genre in area\n",
        "    data = merge_genres_area(data);\n",
        "     # add total quatity of restaurants in area\n",
        "    data = merge_total_rt_in_area(data);\n",
        "   \n",
        "    # add reservation information\n",
        "    data = pd.merge(data, reserve, how = 'left', left_on = ['air_store_id', 'visit_date'],right_on = ['air_store_id', 'visit_date'])\n",
        "    \n",
        "    # add visitors number mean, median, max for each restaurant based on non-working day\n",
        "    data = merge_calc_wd_data(data, mean_of_visitors)\n",
        "    data = merge_calc_wd_data(data, median_of_visitors)\n",
        "    data = merge_calc_wd_data(data, max_visitors)\n",
        "\n",
        "    # add latitude and longitude sum and difference\n",
        "    data = longitude_latitude_calc(data)\n",
        "   \n",
        "    # change NaN to 0\n",
        "    data = data.fillna(0) \n",
        "    return data"
      ],
      "execution_count": 50,
      "outputs": []
    },
    {
      "cell_type": "code",
      "metadata": {
        "colab": {
          "base_uri": "https://localhost:8080/",
          "height": 341
        },
        "id": "VYdKUZPv-_mQ",
        "outputId": "c5137491-6a5e-4337-a263-d0806ab1807a"
      },
      "source": [
        "# combine train/test data with additional information\n",
        "air_train = air_visit_data.copy()\n",
        "X = merge_fe_data(air_train)\n",
        "X = get_id_and_visit_date_details(X)\n",
        "X.head()"
      ],
      "execution_count": 51,
      "outputs": [
        {
          "output_type": "stream",
          "text": [
            "/usr/local/lib/python3.6/dist-packages/ipykernel_launcher.py:12: FutureWarning: Series.dt.weekofyear and Series.dt.week have been deprecated.  Please use Series.dt.isocalendar().week instead.\n",
            "  if sys.path[0] == '':\n"
          ],
          "name": "stderr"
        },
        {
          "output_type": "execute_result",
          "data": {
            "text/html": [
              "<div>\n",
              "<style scoped>\n",
              "    .dataframe tbody tr th:only-of-type {\n",
              "        vertical-align: middle;\n",
              "    }\n",
              "\n",
              "    .dataframe tbody tr th {\n",
              "        vertical-align: top;\n",
              "    }\n",
              "\n",
              "    .dataframe thead th {\n",
              "        text-align: right;\n",
              "    }\n",
              "</style>\n",
              "<table border=\"1\" class=\"dataframe\">\n",
              "  <thead>\n",
              "    <tr style=\"text-align: right;\">\n",
              "      <th></th>\n",
              "      <th>air_store_id</th>\n",
              "      <th>visit_date</th>\n",
              "      <th>visitors</th>\n",
              "      <th>month</th>\n",
              "      <th>day_of_week</th>\n",
              "      <th>holiday_eve</th>\n",
              "      <th>non_working_day</th>\n",
              "      <th>air_genre_name</th>\n",
              "      <th>air_area_name</th>\n",
              "      <th>latitude</th>\n",
              "      <th>longitude</th>\n",
              "      <th>genre_in_area</th>\n",
              "      <th>total_rt_in_area</th>\n",
              "      <th>reserve_visitors</th>\n",
              "      <th>reserve_-12_h</th>\n",
              "      <th>reserve_12_37_h</th>\n",
              "      <th>reserve_37_59_h</th>\n",
              "      <th>reserve_59_85_h</th>\n",
              "      <th>reserve_85+_h</th>\n",
              "      <th>nwd_mean_visitors</th>\n",
              "      <th>nwd_median_visitors</th>\n",
              "      <th>nwd_max_visitors</th>\n",
              "      <th>longitude_latitude_sum</th>\n",
              "      <th>diff_max_latitude</th>\n",
              "      <th>diff_max_longitude</th>\n",
              "      <th>id</th>\n",
              "      <th>visit_date_month</th>\n",
              "      <th>visit_date_dayofw</th>\n",
              "      <th>visit_date_year</th>\n",
              "      <th>visit_date_dayofm</th>\n",
              "      <th>weekofyear</th>\n",
              "    </tr>\n",
              "  </thead>\n",
              "  <tbody>\n",
              "    <tr>\n",
              "      <th>0</th>\n",
              "      <td>air_ba937bf13d40fb24</td>\n",
              "      <td>2016-01-13</td>\n",
              "      <td>25</td>\n",
              "      <td>1.0</td>\n",
              "      <td>Wednesday</td>\n",
              "      <td>0.0</td>\n",
              "      <td>0</td>\n",
              "      <td>Dining bar</td>\n",
              "      <td>Tōkyō-to Minato-ku Shibakōen</td>\n",
              "      <td>35.658068</td>\n",
              "      <td>139.751599</td>\n",
              "      <td>8</td>\n",
              "      <td>51</td>\n",
              "      <td>0.0</td>\n",
              "      <td>0.0</td>\n",
              "      <td>0.0</td>\n",
              "      <td>0.0</td>\n",
              "      <td>0.0</td>\n",
              "      <td>0.0</td>\n",
              "      <td>22.663399</td>\n",
              "      <td>21.5</td>\n",
              "      <td>61</td>\n",
              "      <td>5.172809</td>\n",
              "      <td>8.362564</td>\n",
              "      <td>4.521799</td>\n",
              "      <td>air_ba937bf13d40fb24_2016-01-13</td>\n",
              "      <td>1</td>\n",
              "      <td>2</td>\n",
              "      <td>2016</td>\n",
              "      <td>13</td>\n",
              "      <td>2</td>\n",
              "    </tr>\n",
              "    <tr>\n",
              "      <th>1</th>\n",
              "      <td>air_ba937bf13d40fb24</td>\n",
              "      <td>2016-01-14</td>\n",
              "      <td>32</td>\n",
              "      <td>1.0</td>\n",
              "      <td>Thursday</td>\n",
              "      <td>0.0</td>\n",
              "      <td>0</td>\n",
              "      <td>Dining bar</td>\n",
              "      <td>Tōkyō-to Minato-ku Shibakōen</td>\n",
              "      <td>35.658068</td>\n",
              "      <td>139.751599</td>\n",
              "      <td>8</td>\n",
              "      <td>51</td>\n",
              "      <td>0.0</td>\n",
              "      <td>0.0</td>\n",
              "      <td>0.0</td>\n",
              "      <td>0.0</td>\n",
              "      <td>0.0</td>\n",
              "      <td>0.0</td>\n",
              "      <td>22.663399</td>\n",
              "      <td>21.5</td>\n",
              "      <td>61</td>\n",
              "      <td>5.172809</td>\n",
              "      <td>8.362564</td>\n",
              "      <td>4.521799</td>\n",
              "      <td>air_ba937bf13d40fb24_2016-01-14</td>\n",
              "      <td>1</td>\n",
              "      <td>3</td>\n",
              "      <td>2016</td>\n",
              "      <td>14</td>\n",
              "      <td>2</td>\n",
              "    </tr>\n",
              "    <tr>\n",
              "      <th>2</th>\n",
              "      <td>air_ba937bf13d40fb24</td>\n",
              "      <td>2016-01-15</td>\n",
              "      <td>29</td>\n",
              "      <td>1.0</td>\n",
              "      <td>Friday</td>\n",
              "      <td>0.0</td>\n",
              "      <td>0</td>\n",
              "      <td>Dining bar</td>\n",
              "      <td>Tōkyō-to Minato-ku Shibakōen</td>\n",
              "      <td>35.658068</td>\n",
              "      <td>139.751599</td>\n",
              "      <td>8</td>\n",
              "      <td>51</td>\n",
              "      <td>0.0</td>\n",
              "      <td>0.0</td>\n",
              "      <td>0.0</td>\n",
              "      <td>0.0</td>\n",
              "      <td>0.0</td>\n",
              "      <td>0.0</td>\n",
              "      <td>22.663399</td>\n",
              "      <td>21.5</td>\n",
              "      <td>61</td>\n",
              "      <td>5.172809</td>\n",
              "      <td>8.362564</td>\n",
              "      <td>4.521799</td>\n",
              "      <td>air_ba937bf13d40fb24_2016-01-15</td>\n",
              "      <td>1</td>\n",
              "      <td>4</td>\n",
              "      <td>2016</td>\n",
              "      <td>15</td>\n",
              "      <td>2</td>\n",
              "    </tr>\n",
              "    <tr>\n",
              "      <th>3</th>\n",
              "      <td>air_ba937bf13d40fb24</td>\n",
              "      <td>2016-01-16</td>\n",
              "      <td>22</td>\n",
              "      <td>1.0</td>\n",
              "      <td>Saturday</td>\n",
              "      <td>0.0</td>\n",
              "      <td>1</td>\n",
              "      <td>Dining bar</td>\n",
              "      <td>Tōkyō-to Minato-ku Shibakōen</td>\n",
              "      <td>35.658068</td>\n",
              "      <td>139.751599</td>\n",
              "      <td>8</td>\n",
              "      <td>51</td>\n",
              "      <td>0.0</td>\n",
              "      <td>0.0</td>\n",
              "      <td>0.0</td>\n",
              "      <td>0.0</td>\n",
              "      <td>0.0</td>\n",
              "      <td>0.0</td>\n",
              "      <td>23.211765</td>\n",
              "      <td>23.0</td>\n",
              "      <td>54</td>\n",
              "      <td>5.172809</td>\n",
              "      <td>8.362564</td>\n",
              "      <td>4.521799</td>\n",
              "      <td>air_ba937bf13d40fb24_2016-01-16</td>\n",
              "      <td>1</td>\n",
              "      <td>5</td>\n",
              "      <td>2016</td>\n",
              "      <td>16</td>\n",
              "      <td>2</td>\n",
              "    </tr>\n",
              "    <tr>\n",
              "      <th>4</th>\n",
              "      <td>air_ba937bf13d40fb24</td>\n",
              "      <td>2016-01-18</td>\n",
              "      <td>6</td>\n",
              "      <td>1.0</td>\n",
              "      <td>Monday</td>\n",
              "      <td>0.0</td>\n",
              "      <td>0</td>\n",
              "      <td>Dining bar</td>\n",
              "      <td>Tōkyō-to Minato-ku Shibakōen</td>\n",
              "      <td>35.658068</td>\n",
              "      <td>139.751599</td>\n",
              "      <td>8</td>\n",
              "      <td>51</td>\n",
              "      <td>0.0</td>\n",
              "      <td>0.0</td>\n",
              "      <td>0.0</td>\n",
              "      <td>0.0</td>\n",
              "      <td>0.0</td>\n",
              "      <td>0.0</td>\n",
              "      <td>22.663399</td>\n",
              "      <td>21.5</td>\n",
              "      <td>61</td>\n",
              "      <td>5.172809</td>\n",
              "      <td>8.362564</td>\n",
              "      <td>4.521799</td>\n",
              "      <td>air_ba937bf13d40fb24_2016-01-18</td>\n",
              "      <td>1</td>\n",
              "      <td>0</td>\n",
              "      <td>2016</td>\n",
              "      <td>18</td>\n",
              "      <td>3</td>\n",
              "    </tr>\n",
              "  </tbody>\n",
              "</table>\n",
              "</div>"
            ],
            "text/plain": [
              "           air_store_id visit_date  ...  visit_date_dayofm  weekofyear\n",
              "0  air_ba937bf13d40fb24 2016-01-13  ...                 13           2\n",
              "1  air_ba937bf13d40fb24 2016-01-14  ...                 14           2\n",
              "2  air_ba937bf13d40fb24 2016-01-15  ...                 15           2\n",
              "3  air_ba937bf13d40fb24 2016-01-16  ...                 16           2\n",
              "4  air_ba937bf13d40fb24 2016-01-18  ...                 18           3\n",
              "\n",
              "[5 rows x 31 columns]"
            ]
          },
          "metadata": {
            "tags": []
          },
          "execution_count": 51
        }
      ]
    },
    {
      "cell_type": "code",
      "metadata": {
        "colab": {
          "base_uri": "https://localhost:8080/",
          "height": 341
        },
        "id": "WMWU_AZU_u2J",
        "outputId": "cead4557-1e89-42c7-c41a-402c6d8ac463"
      },
      "source": [
        "# Merge the test data as well\n",
        "air_test = sample_sub.copy()\n",
        "air_test['air_store_id'] = air_test['id'].apply(lambda x: str(x)[:-11])\n",
        "air_test['visit_date'] = air_test['id'].apply(lambda x: str(x)[-10:])\n",
        "X_test = merge_fe_data(air_test)\n",
        "X_test=get_id_and_visit_date_details(X_test)\n",
        "X_test.head(5)"
      ],
      "execution_count": 52,
      "outputs": [
        {
          "output_type": "stream",
          "text": [
            "/usr/local/lib/python3.6/dist-packages/ipykernel_launcher.py:12: FutureWarning: Series.dt.weekofyear and Series.dt.week have been deprecated.  Please use Series.dt.isocalendar().week instead.\n",
            "  if sys.path[0] == '':\n"
          ],
          "name": "stderr"
        },
        {
          "output_type": "execute_result",
          "data": {
            "text/html": [
              "<div>\n",
              "<style scoped>\n",
              "    .dataframe tbody tr th:only-of-type {\n",
              "        vertical-align: middle;\n",
              "    }\n",
              "\n",
              "    .dataframe tbody tr th {\n",
              "        vertical-align: top;\n",
              "    }\n",
              "\n",
              "    .dataframe thead th {\n",
              "        text-align: right;\n",
              "    }\n",
              "</style>\n",
              "<table border=\"1\" class=\"dataframe\">\n",
              "  <thead>\n",
              "    <tr style=\"text-align: right;\">\n",
              "      <th></th>\n",
              "      <th>id</th>\n",
              "      <th>visitors</th>\n",
              "      <th>air_store_id</th>\n",
              "      <th>visit_date</th>\n",
              "      <th>month</th>\n",
              "      <th>day_of_week</th>\n",
              "      <th>holiday_eve</th>\n",
              "      <th>non_working_day</th>\n",
              "      <th>air_genre_name</th>\n",
              "      <th>air_area_name</th>\n",
              "      <th>latitude</th>\n",
              "      <th>longitude</th>\n",
              "      <th>genre_in_area</th>\n",
              "      <th>total_rt_in_area</th>\n",
              "      <th>reserve_visitors</th>\n",
              "      <th>reserve_-12_h</th>\n",
              "      <th>reserve_12_37_h</th>\n",
              "      <th>reserve_37_59_h</th>\n",
              "      <th>reserve_59_85_h</th>\n",
              "      <th>reserve_85+_h</th>\n",
              "      <th>nwd_mean_visitors</th>\n",
              "      <th>nwd_median_visitors</th>\n",
              "      <th>nwd_max_visitors</th>\n",
              "      <th>longitude_latitude_sum</th>\n",
              "      <th>diff_max_latitude</th>\n",
              "      <th>diff_max_longitude</th>\n",
              "      <th>visit_date_month</th>\n",
              "      <th>visit_date_dayofw</th>\n",
              "      <th>visit_date_year</th>\n",
              "      <th>visit_date_dayofm</th>\n",
              "      <th>weekofyear</th>\n",
              "    </tr>\n",
              "  </thead>\n",
              "  <tbody>\n",
              "    <tr>\n",
              "      <th>0</th>\n",
              "      <td>air_e3020992d5fe5dfd_2017-04-06</td>\n",
              "      <td>0</td>\n",
              "      <td>air_e3020992d5fe5dfd</td>\n",
              "      <td>2017-04-06</td>\n",
              "      <td>4.0</td>\n",
              "      <td>Thursday</td>\n",
              "      <td>0.0</td>\n",
              "      <td>0</td>\n",
              "      <td>Italian/French</td>\n",
              "      <td>Tōkyō-to Chūō-ku Tsukiji</td>\n",
              "      <td>35.670651</td>\n",
              "      <td>139.771861</td>\n",
              "      <td>10</td>\n",
              "      <td>29</td>\n",
              "      <td>0.0</td>\n",
              "      <td>0.0</td>\n",
              "      <td>0.0</td>\n",
              "      <td>0.0</td>\n",
              "      <td>0.0</td>\n",
              "      <td>0.0</td>\n",
              "      <td>12.354839</td>\n",
              "      <td>12.0</td>\n",
              "      <td>27</td>\n",
              "      <td>5.172995</td>\n",
              "      <td>8.349981</td>\n",
              "      <td>4.501537</td>\n",
              "      <td>4</td>\n",
              "      <td>3</td>\n",
              "      <td>2017</td>\n",
              "      <td>6</td>\n",
              "      <td>14</td>\n",
              "    </tr>\n",
              "    <tr>\n",
              "      <th>1</th>\n",
              "      <td>air_e3020992d5fe5dfd_2017-04-07</td>\n",
              "      <td>0</td>\n",
              "      <td>air_e3020992d5fe5dfd</td>\n",
              "      <td>2017-04-07</td>\n",
              "      <td>4.0</td>\n",
              "      <td>Friday</td>\n",
              "      <td>0.0</td>\n",
              "      <td>0</td>\n",
              "      <td>Italian/French</td>\n",
              "      <td>Tōkyō-to Chūō-ku Tsukiji</td>\n",
              "      <td>35.670651</td>\n",
              "      <td>139.771861</td>\n",
              "      <td>10</td>\n",
              "      <td>29</td>\n",
              "      <td>0.0</td>\n",
              "      <td>0.0</td>\n",
              "      <td>0.0</td>\n",
              "      <td>0.0</td>\n",
              "      <td>0.0</td>\n",
              "      <td>0.0</td>\n",
              "      <td>12.354839</td>\n",
              "      <td>12.0</td>\n",
              "      <td>27</td>\n",
              "      <td>5.172995</td>\n",
              "      <td>8.349981</td>\n",
              "      <td>4.501537</td>\n",
              "      <td>4</td>\n",
              "      <td>4</td>\n",
              "      <td>2017</td>\n",
              "      <td>7</td>\n",
              "      <td>14</td>\n",
              "    </tr>\n",
              "    <tr>\n",
              "      <th>2</th>\n",
              "      <td>air_e3020992d5fe5dfd_2017-04-08</td>\n",
              "      <td>0</td>\n",
              "      <td>air_e3020992d5fe5dfd</td>\n",
              "      <td>2017-04-08</td>\n",
              "      <td>4.0</td>\n",
              "      <td>Saturday</td>\n",
              "      <td>0.0</td>\n",
              "      <td>1</td>\n",
              "      <td>Italian/French</td>\n",
              "      <td>Tōkyō-to Chūō-ku Tsukiji</td>\n",
              "      <td>35.670651</td>\n",
              "      <td>139.771861</td>\n",
              "      <td>10</td>\n",
              "      <td>29</td>\n",
              "      <td>0.0</td>\n",
              "      <td>0.0</td>\n",
              "      <td>0.0</td>\n",
              "      <td>0.0</td>\n",
              "      <td>0.0</td>\n",
              "      <td>0.0</td>\n",
              "      <td>12.849057</td>\n",
              "      <td>14.0</td>\n",
              "      <td>30</td>\n",
              "      <td>5.172995</td>\n",
              "      <td>8.349981</td>\n",
              "      <td>4.501537</td>\n",
              "      <td>4</td>\n",
              "      <td>5</td>\n",
              "      <td>2017</td>\n",
              "      <td>8</td>\n",
              "      <td>14</td>\n",
              "    </tr>\n",
              "    <tr>\n",
              "      <th>3</th>\n",
              "      <td>air_e3020992d5fe5dfd_2017-04-10</td>\n",
              "      <td>0</td>\n",
              "      <td>air_e3020992d5fe5dfd</td>\n",
              "      <td>2017-04-10</td>\n",
              "      <td>4.0</td>\n",
              "      <td>Monday</td>\n",
              "      <td>0.0</td>\n",
              "      <td>0</td>\n",
              "      <td>Italian/French</td>\n",
              "      <td>Tōkyō-to Chūō-ku Tsukiji</td>\n",
              "      <td>35.670651</td>\n",
              "      <td>139.771861</td>\n",
              "      <td>10</td>\n",
              "      <td>29</td>\n",
              "      <td>0.0</td>\n",
              "      <td>0.0</td>\n",
              "      <td>0.0</td>\n",
              "      <td>0.0</td>\n",
              "      <td>0.0</td>\n",
              "      <td>0.0</td>\n",
              "      <td>12.354839</td>\n",
              "      <td>12.0</td>\n",
              "      <td>27</td>\n",
              "      <td>5.172995</td>\n",
              "      <td>8.349981</td>\n",
              "      <td>4.501537</td>\n",
              "      <td>4</td>\n",
              "      <td>0</td>\n",
              "      <td>2017</td>\n",
              "      <td>10</td>\n",
              "      <td>15</td>\n",
              "    </tr>\n",
              "    <tr>\n",
              "      <th>4</th>\n",
              "      <td>air_e3020992d5fe5dfd_2017-04-11</td>\n",
              "      <td>0</td>\n",
              "      <td>air_e3020992d5fe5dfd</td>\n",
              "      <td>2017-04-11</td>\n",
              "      <td>4.0</td>\n",
              "      <td>Tuesday</td>\n",
              "      <td>0.0</td>\n",
              "      <td>0</td>\n",
              "      <td>Italian/French</td>\n",
              "      <td>Tōkyō-to Chūō-ku Tsukiji</td>\n",
              "      <td>35.670651</td>\n",
              "      <td>139.771861</td>\n",
              "      <td>10</td>\n",
              "      <td>29</td>\n",
              "      <td>0.0</td>\n",
              "      <td>0.0</td>\n",
              "      <td>0.0</td>\n",
              "      <td>0.0</td>\n",
              "      <td>0.0</td>\n",
              "      <td>0.0</td>\n",
              "      <td>12.354839</td>\n",
              "      <td>12.0</td>\n",
              "      <td>27</td>\n",
              "      <td>5.172995</td>\n",
              "      <td>8.349981</td>\n",
              "      <td>4.501537</td>\n",
              "      <td>4</td>\n",
              "      <td>1</td>\n",
              "      <td>2017</td>\n",
              "      <td>11</td>\n",
              "      <td>15</td>\n",
              "    </tr>\n",
              "  </tbody>\n",
              "</table>\n",
              "</div>"
            ],
            "text/plain": [
              "                                id  visitors  ... visit_date_dayofm weekofyear\n",
              "0  air_e3020992d5fe5dfd_2017-04-06         0  ...                 6         14\n",
              "1  air_e3020992d5fe5dfd_2017-04-07         0  ...                 7         14\n",
              "2  air_e3020992d5fe5dfd_2017-04-08         0  ...                 8         14\n",
              "3  air_e3020992d5fe5dfd_2017-04-10         0  ...                10         15\n",
              "4  air_e3020992d5fe5dfd_2017-04-11         0  ...                11         15\n",
              "\n",
              "[5 rows x 31 columns]"
            ]
          },
          "metadata": {
            "tags": []
          },
          "execution_count": 52
        }
      ]
    },
    {
      "cell_type": "markdown",
      "metadata": {
        "id": "2V7oDJgnQJvk"
      },
      "source": [
        "###### *Mean Median and Max Visitors based on different features*"
      ]
    },
    {
      "cell_type": "code",
      "metadata": {
        "id": "Dh2RAnUiQXeD"
      },
      "source": [
        "# create copy of train and test set created till now\n",
        "k = [i for i in X.columns if i in X_test.columns]\n",
        "train = X.copy()\n",
        "test = X_test.copy()"
      ],
      "execution_count": 53,
      "outputs": []
    },
    {
      "cell_type": "code",
      "metadata": {
        "id": "T9A_YwY9nOau"
      },
      "source": [
        "# normalize the columns that have large values\n",
        "def normalize_data(data, col_name) :\n",
        "  data[col_name] = data[col_name].apply(lambda x: np.log1p(x))\n",
        "  return data"
      ],
      "execution_count": 54,
      "outputs": []
    },
    {
      "cell_type": "code",
      "metadata": {
        "id": "5zzPqnWaQXpH"
      },
      "source": [
        "# Find the mean, median and max visitors of stores based on day of week, month\n",
        "# CHANGES MADE - previously, we considered mean, median and max visitors according to month and day of week\n",
        "# Now, we consider these values according to month and day of week for EACH store id, instead of simply calculating overall value.\n",
        "\n",
        "k1 = train[['visitors','air_store_id','visit_date_dayofw']].groupby(['air_store_id','visit_date_dayofw']).agg('mean').reset_index()\n",
        "k1.columns = ['air_store_id','visit_date_dayofw','store_dayofw_mean_visitors']\n",
        "\n",
        "k2 = train[['visitors','air_store_id','visit_date_dayofw']].groupby(['air_store_id','visit_date_dayofw']).agg('median').reset_index()\n",
        "k2.columns = ['air_store_id','visit_date_dayofw','store_dayofw_median_visitors']\n",
        "\n",
        "k3 = train[['visitors','air_store_id','visit_date_dayofw']].groupby(['air_store_id','visit_date_dayofw']).agg('max').reset_index()\n",
        "k3.columns = ['air_store_id','visit_date_dayofw','store_dayofw_max_visitors']\n",
        "\n",
        "k7 = train[['visitors','air_store_id']].groupby('air_store_id').agg('mean').reset_index()\n",
        "k7.columns = ['air_store_id','store_mean_visitors']\n",
        "\n",
        "k8 = train[['visitors','air_store_id']].groupby('air_store_id').agg('median').reset_index()\n",
        "k8.columns = ['air_store_id','store_median_visitors']\n",
        "\n",
        "k9 = train[['visitors','air_store_id']].groupby('air_store_id').agg('max').reset_index()\n",
        "k9.columns = ['air_store_id','store_max_visitors']\n",
        "\n",
        "k13 = train[['visitors','air_store_id','visit_date_month']].groupby(['air_store_id','visit_date_month']).agg('mean').reset_index()\n",
        "k13.columns = ['air_store_id','visit_date_month','store_month_mean_visitors']\n",
        "\n",
        "k14 = train[['visitors','air_store_id','visit_date_month']].groupby(['air_store_id','visit_date_month']).agg('median').reset_index()\n",
        "k14.columns = ['air_store_id','visit_date_month','store_month_median_visitors']\n",
        "\n",
        "k15 = train[['visitors','air_store_id','visit_date_month']].groupby(['air_store_id','visit_date_month']).agg('max').reset_index()\n",
        "k15.columns = ['air_store_id','visit_date_month','store_month_max_visitors']"
      ],
      "execution_count": 55,
      "outputs": []
    },
    {
      "cell_type": "code",
      "metadata": {
        "id": "2q5S4JNVQfDf"
      },
      "source": [
        "# Merge all the newly created min max visitors with train and test set\n",
        "\n",
        "train = X.copy()\n",
        "test = X_test.copy()\n",
        "train = train[k]\n",
        "test = test[k]\n",
        "\n",
        "train = train.merge(k1,on=['air_store_id','visit_date_dayofw'],how='left')\n",
        "test = test.merge(k1,on= ['air_store_id','visit_date_dayofw'],how='left')\n",
        "\n",
        "train = train.merge(k2,on=['air_store_id','visit_date_dayofw'],how='left')\n",
        "test = test.merge(k2,on= ['air_store_id','visit_date_dayofw'],how='left')\n",
        "\n",
        "train = train.merge(k3,on=['air_store_id','visit_date_dayofw'],how='left')\n",
        "test = test.merge(k3,on= ['air_store_id','visit_date_dayofw'],how='left')\n",
        "\n",
        "\n",
        "train = train.merge(k7,on=['air_store_id'],how='left')\n",
        "test = test.merge(k7,on= ['air_store_id'],how='left')\n",
        "\n",
        "train = train.merge(k8,on=['air_store_id'],how='left')\n",
        "test = test.merge(k8,on= ['air_store_id'],how='left')\n",
        "\n",
        "train = train.merge(k9,on=['air_store_id'],how='left')\n",
        "test = test.merge(k9,on= ['air_store_id'],how='left')\n",
        "\n",
        "\n",
        "train = train.merge(k13,on=['air_store_id','visit_date_month'],how='left')\n",
        "test = test.merge(k13,on= ['air_store_id','visit_date_month'],how='left')\n",
        "\n",
        "train = train.merge(k14,on=['air_store_id','visit_date_month'],how='left')\n",
        "test = test.merge(k14,on= ['air_store_id','visit_date_month'],how='left')\n",
        "\n",
        "train = train.merge(k15,on=['air_store_id','visit_date_month'],how='left')\n",
        "test = test.merge(k15,on= ['air_store_id','visit_date_month'],how='left')\n",
        "\n",
        "train.replace(np.nan,-1,inplace=True)\n",
        "test.replace(np.nan,-1,inplace=True)"
      ],
      "execution_count": 56,
      "outputs": []
    },
    {
      "cell_type": "markdown",
      "metadata": {
        "id": "ZHwtTfK6QNv5"
      },
      "source": [
        "###### *Area and Genre - One hot encoding*"
      ]
    },
    {
      "cell_type": "code",
      "metadata": {
        "id": "TFHjH_WXPuu-"
      },
      "source": [
        "# split the area name and create new columns\n",
        "# only first part of area will be used\n",
        "def split_area(df):\n",
        "  df[['area1','area2','area3','4','5']]=df.air_area_name.str.split(pat=' ',expand=True)\n",
        "  df.drop(columns=['area3','4','5'],axis=1,inplace=True)\n",
        "  return df"
      ],
      "execution_count": 57,
      "outputs": []
    },
    {
      "cell_type": "code",
      "metadata": {
        "id": "_U9tcPsMP5fZ"
      },
      "source": [
        "train=split_area(train)\n",
        "test=split_area(test)"
      ],
      "execution_count": 58,
      "outputs": []
    },
    {
      "cell_type": "code",
      "metadata": {
        "id": "uccA0anchk-A"
      },
      "source": [
        "# one hot encoding of the area and genre columns for train set\n",
        "dum=pd.get_dummies(train.area1)\n",
        "dum2=pd.get_dummies(train.air_genre_name)\n",
        "frames=[train,dum,dum2]\n",
        "train=pd.concat(frames,axis=1)\n",
        "\n",
        "# one hot encoding of the area and genre columns for train set\n",
        "dum=pd.get_dummies(test.area1)\n",
        "dum2=pd.get_dummies(test.air_genre_name)\n",
        "frames=[test,dum,dum2]\n",
        "test=pd.concat(frames,axis=1)"
      ],
      "execution_count": 59,
      "outputs": []
    },
    {
      "cell_type": "code",
      "metadata": {
        "colab": {
          "base_uri": "https://localhost:8080/",
          "height": 322
        },
        "id": "NgYUHVmGCaMV",
        "outputId": "b6235f9a-f7fa-4d25-fe52-988be44c5377"
      },
      "source": [
        "# drop columns not necessary for train set\n",
        "k = ['air_store_id', u'visit_date', u'month', u'day_of_week', u'air_area_name', 'visit_date_year', u'latitude', u'longitude']\n",
        "X = train.drop(k,axis=1)\n",
        "X.head(5)"
      ],
      "execution_count": 60,
      "outputs": [
        {
          "output_type": "execute_result",
          "data": {
            "text/html": [
              "<div>\n",
              "<style scoped>\n",
              "    .dataframe tbody tr th:only-of-type {\n",
              "        vertical-align: middle;\n",
              "    }\n",
              "\n",
              "    .dataframe tbody tr th {\n",
              "        vertical-align: top;\n",
              "    }\n",
              "\n",
              "    .dataframe thead th {\n",
              "        text-align: right;\n",
              "    }\n",
              "</style>\n",
              "<table border=\"1\" class=\"dataframe\">\n",
              "  <thead>\n",
              "    <tr style=\"text-align: right;\">\n",
              "      <th></th>\n",
              "      <th>visitors</th>\n",
              "      <th>holiday_eve</th>\n",
              "      <th>non_working_day</th>\n",
              "      <th>air_genre_name</th>\n",
              "      <th>genre_in_area</th>\n",
              "      <th>total_rt_in_area</th>\n",
              "      <th>reserve_visitors</th>\n",
              "      <th>reserve_-12_h</th>\n",
              "      <th>reserve_12_37_h</th>\n",
              "      <th>reserve_37_59_h</th>\n",
              "      <th>reserve_59_85_h</th>\n",
              "      <th>reserve_85+_h</th>\n",
              "      <th>nwd_mean_visitors</th>\n",
              "      <th>nwd_median_visitors</th>\n",
              "      <th>nwd_max_visitors</th>\n",
              "      <th>longitude_latitude_sum</th>\n",
              "      <th>diff_max_latitude</th>\n",
              "      <th>diff_max_longitude</th>\n",
              "      <th>id</th>\n",
              "      <th>visit_date_month</th>\n",
              "      <th>visit_date_dayofw</th>\n",
              "      <th>visit_date_dayofm</th>\n",
              "      <th>weekofyear</th>\n",
              "      <th>store_dayofw_mean_visitors</th>\n",
              "      <th>store_dayofw_median_visitors</th>\n",
              "      <th>store_dayofw_max_visitors</th>\n",
              "      <th>store_mean_visitors</th>\n",
              "      <th>store_median_visitors</th>\n",
              "      <th>store_max_visitors</th>\n",
              "      <th>store_month_mean_visitors</th>\n",
              "      <th>store_month_median_visitors</th>\n",
              "      <th>store_month_max_visitors</th>\n",
              "      <th>area1</th>\n",
              "      <th>area2</th>\n",
              "      <th>Fukuoka-ken</th>\n",
              "      <th>Hiroshima-ken</th>\n",
              "      <th>Hokkaidō</th>\n",
              "      <th>Hyōgo-ken</th>\n",
              "      <th>Miyagi-ken</th>\n",
              "      <th>Niigata-ken</th>\n",
              "      <th>Shizuoka-ken</th>\n",
              "      <th>Tōkyō-to</th>\n",
              "      <th>Ōsaka-fu</th>\n",
              "      <th>Asian</th>\n",
              "      <th>Bar/Cocktail</th>\n",
              "      <th>Cafe/Sweets</th>\n",
              "      <th>Creative cuisine</th>\n",
              "      <th>Dining bar</th>\n",
              "      <th>International cuisine</th>\n",
              "      <th>Italian/French</th>\n",
              "      <th>Izakaya</th>\n",
              "      <th>Japanese food</th>\n",
              "      <th>Karaoke/Party</th>\n",
              "      <th>Okonomiyaki/Monja/Teppanyaki</th>\n",
              "      <th>Other</th>\n",
              "      <th>Western food</th>\n",
              "      <th>Yakiniku/Korean food</th>\n",
              "    </tr>\n",
              "  </thead>\n",
              "  <tbody>\n",
              "    <tr>\n",
              "      <th>0</th>\n",
              "      <td>25</td>\n",
              "      <td>0.0</td>\n",
              "      <td>0</td>\n",
              "      <td>Dining bar</td>\n",
              "      <td>8</td>\n",
              "      <td>51</td>\n",
              "      <td>0.0</td>\n",
              "      <td>0.0</td>\n",
              "      <td>0.0</td>\n",
              "      <td>0.0</td>\n",
              "      <td>0.0</td>\n",
              "      <td>0.0</td>\n",
              "      <td>22.663399</td>\n",
              "      <td>21.5</td>\n",
              "      <td>61</td>\n",
              "      <td>5.172809</td>\n",
              "      <td>8.362564</td>\n",
              "      <td>4.521799</td>\n",
              "      <td>air_ba937bf13d40fb24_2016-01-13</td>\n",
              "      <td>1</td>\n",
              "      <td>2</td>\n",
              "      <td>13</td>\n",
              "      <td>2</td>\n",
              "      <td>23.843750</td>\n",
              "      <td>25.0</td>\n",
              "      <td>57</td>\n",
              "      <td>22.782609</td>\n",
              "      <td>22.0</td>\n",
              "      <td>61</td>\n",
              "      <td>18.35</td>\n",
              "      <td>21.0</td>\n",
              "      <td>38</td>\n",
              "      <td>Tōkyō-to</td>\n",
              "      <td>Minato-ku</td>\n",
              "      <td>0</td>\n",
              "      <td>0</td>\n",
              "      <td>0</td>\n",
              "      <td>0</td>\n",
              "      <td>0</td>\n",
              "      <td>0</td>\n",
              "      <td>0</td>\n",
              "      <td>1</td>\n",
              "      <td>0</td>\n",
              "      <td>0</td>\n",
              "      <td>0</td>\n",
              "      <td>0</td>\n",
              "      <td>0</td>\n",
              "      <td>1</td>\n",
              "      <td>0</td>\n",
              "      <td>0</td>\n",
              "      <td>0</td>\n",
              "      <td>0</td>\n",
              "      <td>0</td>\n",
              "      <td>0</td>\n",
              "      <td>0</td>\n",
              "      <td>0</td>\n",
              "      <td>0</td>\n",
              "    </tr>\n",
              "    <tr>\n",
              "      <th>1</th>\n",
              "      <td>32</td>\n",
              "      <td>0.0</td>\n",
              "      <td>0</td>\n",
              "      <td>Dining bar</td>\n",
              "      <td>8</td>\n",
              "      <td>51</td>\n",
              "      <td>0.0</td>\n",
              "      <td>0.0</td>\n",
              "      <td>0.0</td>\n",
              "      <td>0.0</td>\n",
              "      <td>0.0</td>\n",
              "      <td>0.0</td>\n",
              "      <td>22.663399</td>\n",
              "      <td>21.5</td>\n",
              "      <td>61</td>\n",
              "      <td>5.172809</td>\n",
              "      <td>8.362564</td>\n",
              "      <td>4.521799</td>\n",
              "      <td>air_ba937bf13d40fb24_2016-01-14</td>\n",
              "      <td>1</td>\n",
              "      <td>3</td>\n",
              "      <td>14</td>\n",
              "      <td>2</td>\n",
              "      <td>20.292308</td>\n",
              "      <td>21.0</td>\n",
              "      <td>54</td>\n",
              "      <td>22.782609</td>\n",
              "      <td>22.0</td>\n",
              "      <td>61</td>\n",
              "      <td>18.35</td>\n",
              "      <td>21.0</td>\n",
              "      <td>38</td>\n",
              "      <td>Tōkyō-to</td>\n",
              "      <td>Minato-ku</td>\n",
              "      <td>0</td>\n",
              "      <td>0</td>\n",
              "      <td>0</td>\n",
              "      <td>0</td>\n",
              "      <td>0</td>\n",
              "      <td>0</td>\n",
              "      <td>0</td>\n",
              "      <td>1</td>\n",
              "      <td>0</td>\n",
              "      <td>0</td>\n",
              "      <td>0</td>\n",
              "      <td>0</td>\n",
              "      <td>0</td>\n",
              "      <td>1</td>\n",
              "      <td>0</td>\n",
              "      <td>0</td>\n",
              "      <td>0</td>\n",
              "      <td>0</td>\n",
              "      <td>0</td>\n",
              "      <td>0</td>\n",
              "      <td>0</td>\n",
              "      <td>0</td>\n",
              "      <td>0</td>\n",
              "    </tr>\n",
              "    <tr>\n",
              "      <th>2</th>\n",
              "      <td>29</td>\n",
              "      <td>0.0</td>\n",
              "      <td>0</td>\n",
              "      <td>Dining bar</td>\n",
              "      <td>8</td>\n",
              "      <td>51</td>\n",
              "      <td>0.0</td>\n",
              "      <td>0.0</td>\n",
              "      <td>0.0</td>\n",
              "      <td>0.0</td>\n",
              "      <td>0.0</td>\n",
              "      <td>0.0</td>\n",
              "      <td>22.663399</td>\n",
              "      <td>21.5</td>\n",
              "      <td>61</td>\n",
              "      <td>5.172809</td>\n",
              "      <td>8.362564</td>\n",
              "      <td>4.521799</td>\n",
              "      <td>air_ba937bf13d40fb24_2016-01-15</td>\n",
              "      <td>1</td>\n",
              "      <td>4</td>\n",
              "      <td>15</td>\n",
              "      <td>2</td>\n",
              "      <td>34.738462</td>\n",
              "      <td>35.0</td>\n",
              "      <td>61</td>\n",
              "      <td>22.782609</td>\n",
              "      <td>22.0</td>\n",
              "      <td>61</td>\n",
              "      <td>18.35</td>\n",
              "      <td>21.0</td>\n",
              "      <td>38</td>\n",
              "      <td>Tōkyō-to</td>\n",
              "      <td>Minato-ku</td>\n",
              "      <td>0</td>\n",
              "      <td>0</td>\n",
              "      <td>0</td>\n",
              "      <td>0</td>\n",
              "      <td>0</td>\n",
              "      <td>0</td>\n",
              "      <td>0</td>\n",
              "      <td>1</td>\n",
              "      <td>0</td>\n",
              "      <td>0</td>\n",
              "      <td>0</td>\n",
              "      <td>0</td>\n",
              "      <td>0</td>\n",
              "      <td>1</td>\n",
              "      <td>0</td>\n",
              "      <td>0</td>\n",
              "      <td>0</td>\n",
              "      <td>0</td>\n",
              "      <td>0</td>\n",
              "      <td>0</td>\n",
              "      <td>0</td>\n",
              "      <td>0</td>\n",
              "      <td>0</td>\n",
              "    </tr>\n",
              "    <tr>\n",
              "      <th>3</th>\n",
              "      <td>22</td>\n",
              "      <td>0.0</td>\n",
              "      <td>1</td>\n",
              "      <td>Dining bar</td>\n",
              "      <td>8</td>\n",
              "      <td>51</td>\n",
              "      <td>0.0</td>\n",
              "      <td>0.0</td>\n",
              "      <td>0.0</td>\n",
              "      <td>0.0</td>\n",
              "      <td>0.0</td>\n",
              "      <td>0.0</td>\n",
              "      <td>23.211765</td>\n",
              "      <td>23.0</td>\n",
              "      <td>54</td>\n",
              "      <td>5.172809</td>\n",
              "      <td>8.362564</td>\n",
              "      <td>4.521799</td>\n",
              "      <td>air_ba937bf13d40fb24_2016-01-16</td>\n",
              "      <td>1</td>\n",
              "      <td>5</td>\n",
              "      <td>16</td>\n",
              "      <td>2</td>\n",
              "      <td>27.651515</td>\n",
              "      <td>27.0</td>\n",
              "      <td>53</td>\n",
              "      <td>22.782609</td>\n",
              "      <td>22.0</td>\n",
              "      <td>61</td>\n",
              "      <td>18.35</td>\n",
              "      <td>21.0</td>\n",
              "      <td>38</td>\n",
              "      <td>Tōkyō-to</td>\n",
              "      <td>Minato-ku</td>\n",
              "      <td>0</td>\n",
              "      <td>0</td>\n",
              "      <td>0</td>\n",
              "      <td>0</td>\n",
              "      <td>0</td>\n",
              "      <td>0</td>\n",
              "      <td>0</td>\n",
              "      <td>1</td>\n",
              "      <td>0</td>\n",
              "      <td>0</td>\n",
              "      <td>0</td>\n",
              "      <td>0</td>\n",
              "      <td>0</td>\n",
              "      <td>1</td>\n",
              "      <td>0</td>\n",
              "      <td>0</td>\n",
              "      <td>0</td>\n",
              "      <td>0</td>\n",
              "      <td>0</td>\n",
              "      <td>0</td>\n",
              "      <td>0</td>\n",
              "      <td>0</td>\n",
              "      <td>0</td>\n",
              "    </tr>\n",
              "    <tr>\n",
              "      <th>4</th>\n",
              "      <td>6</td>\n",
              "      <td>0.0</td>\n",
              "      <td>0</td>\n",
              "      <td>Dining bar</td>\n",
              "      <td>8</td>\n",
              "      <td>51</td>\n",
              "      <td>0.0</td>\n",
              "      <td>0.0</td>\n",
              "      <td>0.0</td>\n",
              "      <td>0.0</td>\n",
              "      <td>0.0</td>\n",
              "      <td>0.0</td>\n",
              "      <td>22.663399</td>\n",
              "      <td>21.5</td>\n",
              "      <td>61</td>\n",
              "      <td>5.172809</td>\n",
              "      <td>8.362564</td>\n",
              "      <td>4.521799</td>\n",
              "      <td>air_ba937bf13d40fb24_2016-01-18</td>\n",
              "      <td>1</td>\n",
              "      <td>0</td>\n",
              "      <td>18</td>\n",
              "      <td>3</td>\n",
              "      <td>13.754386</td>\n",
              "      <td>12.0</td>\n",
              "      <td>34</td>\n",
              "      <td>22.782609</td>\n",
              "      <td>22.0</td>\n",
              "      <td>61</td>\n",
              "      <td>18.35</td>\n",
              "      <td>21.0</td>\n",
              "      <td>38</td>\n",
              "      <td>Tōkyō-to</td>\n",
              "      <td>Minato-ku</td>\n",
              "      <td>0</td>\n",
              "      <td>0</td>\n",
              "      <td>0</td>\n",
              "      <td>0</td>\n",
              "      <td>0</td>\n",
              "      <td>0</td>\n",
              "      <td>0</td>\n",
              "      <td>1</td>\n",
              "      <td>0</td>\n",
              "      <td>0</td>\n",
              "      <td>0</td>\n",
              "      <td>0</td>\n",
              "      <td>0</td>\n",
              "      <td>1</td>\n",
              "      <td>0</td>\n",
              "      <td>0</td>\n",
              "      <td>0</td>\n",
              "      <td>0</td>\n",
              "      <td>0</td>\n",
              "      <td>0</td>\n",
              "      <td>0</td>\n",
              "      <td>0</td>\n",
              "      <td>0</td>\n",
              "    </tr>\n",
              "  </tbody>\n",
              "</table>\n",
              "</div>"
            ],
            "text/plain": [
              "   visitors  holiday_eve  ...  Western food Yakiniku/Korean food\n",
              "0        25          0.0  ...             0                    0\n",
              "1        32          0.0  ...             0                    0\n",
              "2        29          0.0  ...             0                    0\n",
              "3        22          0.0  ...             0                    0\n",
              "4         6          0.0  ...             0                    0\n",
              "\n",
              "[5 rows x 57 columns]"
            ]
          },
          "metadata": {
            "tags": []
          },
          "execution_count": 60
        }
      ]
    },
    {
      "cell_type": "code",
      "metadata": {
        "colab": {
          "base_uri": "https://localhost:8080/",
          "height": 322
        },
        "id": "nRul86lwCaO1",
        "outputId": "be5b047f-3d1d-4a47-a98f-cc64154e863d"
      },
      "source": [
        "# drop unnecessary columns for test\n",
        "X_test = test.drop(k,axis=1)\n",
        "X_test.head(5)"
      ],
      "execution_count": 61,
      "outputs": [
        {
          "output_type": "execute_result",
          "data": {
            "text/html": [
              "<div>\n",
              "<style scoped>\n",
              "    .dataframe tbody tr th:only-of-type {\n",
              "        vertical-align: middle;\n",
              "    }\n",
              "\n",
              "    .dataframe tbody tr th {\n",
              "        vertical-align: top;\n",
              "    }\n",
              "\n",
              "    .dataframe thead th {\n",
              "        text-align: right;\n",
              "    }\n",
              "</style>\n",
              "<table border=\"1\" class=\"dataframe\">\n",
              "  <thead>\n",
              "    <tr style=\"text-align: right;\">\n",
              "      <th></th>\n",
              "      <th>visitors</th>\n",
              "      <th>holiday_eve</th>\n",
              "      <th>non_working_day</th>\n",
              "      <th>air_genre_name</th>\n",
              "      <th>genre_in_area</th>\n",
              "      <th>total_rt_in_area</th>\n",
              "      <th>reserve_visitors</th>\n",
              "      <th>reserve_-12_h</th>\n",
              "      <th>reserve_12_37_h</th>\n",
              "      <th>reserve_37_59_h</th>\n",
              "      <th>reserve_59_85_h</th>\n",
              "      <th>reserve_85+_h</th>\n",
              "      <th>nwd_mean_visitors</th>\n",
              "      <th>nwd_median_visitors</th>\n",
              "      <th>nwd_max_visitors</th>\n",
              "      <th>longitude_latitude_sum</th>\n",
              "      <th>diff_max_latitude</th>\n",
              "      <th>diff_max_longitude</th>\n",
              "      <th>id</th>\n",
              "      <th>visit_date_month</th>\n",
              "      <th>visit_date_dayofw</th>\n",
              "      <th>visit_date_dayofm</th>\n",
              "      <th>weekofyear</th>\n",
              "      <th>store_dayofw_mean_visitors</th>\n",
              "      <th>store_dayofw_median_visitors</th>\n",
              "      <th>store_dayofw_max_visitors</th>\n",
              "      <th>store_mean_visitors</th>\n",
              "      <th>store_median_visitors</th>\n",
              "      <th>store_max_visitors</th>\n",
              "      <th>store_month_mean_visitors</th>\n",
              "      <th>store_month_median_visitors</th>\n",
              "      <th>store_month_max_visitors</th>\n",
              "      <th>area1</th>\n",
              "      <th>area2</th>\n",
              "      <th>Fukuoka-ken</th>\n",
              "      <th>Hiroshima-ken</th>\n",
              "      <th>Hokkaidō</th>\n",
              "      <th>Hyōgo-ken</th>\n",
              "      <th>Miyagi-ken</th>\n",
              "      <th>Niigata-ken</th>\n",
              "      <th>Shizuoka-ken</th>\n",
              "      <th>Tōkyō-to</th>\n",
              "      <th>Ōsaka-fu</th>\n",
              "      <th>Asian</th>\n",
              "      <th>Bar/Cocktail</th>\n",
              "      <th>Cafe/Sweets</th>\n",
              "      <th>Creative cuisine</th>\n",
              "      <th>Dining bar</th>\n",
              "      <th>International cuisine</th>\n",
              "      <th>Italian/French</th>\n",
              "      <th>Izakaya</th>\n",
              "      <th>Japanese food</th>\n",
              "      <th>Karaoke/Party</th>\n",
              "      <th>Okonomiyaki/Monja/Teppanyaki</th>\n",
              "      <th>Other</th>\n",
              "      <th>Western food</th>\n",
              "      <th>Yakiniku/Korean food</th>\n",
              "    </tr>\n",
              "  </thead>\n",
              "  <tbody>\n",
              "    <tr>\n",
              "      <th>0</th>\n",
              "      <td>0</td>\n",
              "      <td>0.0</td>\n",
              "      <td>0</td>\n",
              "      <td>Italian/French</td>\n",
              "      <td>10</td>\n",
              "      <td>29</td>\n",
              "      <td>0.0</td>\n",
              "      <td>0.0</td>\n",
              "      <td>0.0</td>\n",
              "      <td>0.0</td>\n",
              "      <td>0.0</td>\n",
              "      <td>0.0</td>\n",
              "      <td>12.354839</td>\n",
              "      <td>12.0</td>\n",
              "      <td>27</td>\n",
              "      <td>5.172995</td>\n",
              "      <td>8.349981</td>\n",
              "      <td>4.501537</td>\n",
              "      <td>air_e3020992d5fe5dfd_2017-04-06</td>\n",
              "      <td>4</td>\n",
              "      <td>3</td>\n",
              "      <td>6</td>\n",
              "      <td>14</td>\n",
              "      <td>11.157895</td>\n",
              "      <td>8.5</td>\n",
              "      <td>27</td>\n",
              "      <td>12.464435</td>\n",
              "      <td>12.0</td>\n",
              "      <td>30</td>\n",
              "      <td>12.210526</td>\n",
              "      <td>13.0</td>\n",
              "      <td>21</td>\n",
              "      <td>Tōkyō-to</td>\n",
              "      <td>Chūō-ku</td>\n",
              "      <td>0</td>\n",
              "      <td>0</td>\n",
              "      <td>0</td>\n",
              "      <td>0</td>\n",
              "      <td>0</td>\n",
              "      <td>0</td>\n",
              "      <td>0</td>\n",
              "      <td>1</td>\n",
              "      <td>0</td>\n",
              "      <td>0</td>\n",
              "      <td>0</td>\n",
              "      <td>0</td>\n",
              "      <td>0</td>\n",
              "      <td>0</td>\n",
              "      <td>0</td>\n",
              "      <td>1</td>\n",
              "      <td>0</td>\n",
              "      <td>0</td>\n",
              "      <td>0</td>\n",
              "      <td>0</td>\n",
              "      <td>0</td>\n",
              "      <td>0</td>\n",
              "      <td>0</td>\n",
              "    </tr>\n",
              "    <tr>\n",
              "      <th>1</th>\n",
              "      <td>0</td>\n",
              "      <td>0.0</td>\n",
              "      <td>0</td>\n",
              "      <td>Italian/French</td>\n",
              "      <td>10</td>\n",
              "      <td>29</td>\n",
              "      <td>0.0</td>\n",
              "      <td>0.0</td>\n",
              "      <td>0.0</td>\n",
              "      <td>0.0</td>\n",
              "      <td>0.0</td>\n",
              "      <td>0.0</td>\n",
              "      <td>12.354839</td>\n",
              "      <td>12.0</td>\n",
              "      <td>27</td>\n",
              "      <td>5.172995</td>\n",
              "      <td>8.349981</td>\n",
              "      <td>4.501537</td>\n",
              "      <td>air_e3020992d5fe5dfd_2017-04-07</td>\n",
              "      <td>4</td>\n",
              "      <td>4</td>\n",
              "      <td>7</td>\n",
              "      <td>14</td>\n",
              "      <td>16.023256</td>\n",
              "      <td>18.0</td>\n",
              "      <td>25</td>\n",
              "      <td>12.464435</td>\n",
              "      <td>12.0</td>\n",
              "      <td>30</td>\n",
              "      <td>12.210526</td>\n",
              "      <td>13.0</td>\n",
              "      <td>21</td>\n",
              "      <td>Tōkyō-to</td>\n",
              "      <td>Chūō-ku</td>\n",
              "      <td>0</td>\n",
              "      <td>0</td>\n",
              "      <td>0</td>\n",
              "      <td>0</td>\n",
              "      <td>0</td>\n",
              "      <td>0</td>\n",
              "      <td>0</td>\n",
              "      <td>1</td>\n",
              "      <td>0</td>\n",
              "      <td>0</td>\n",
              "      <td>0</td>\n",
              "      <td>0</td>\n",
              "      <td>0</td>\n",
              "      <td>0</td>\n",
              "      <td>0</td>\n",
              "      <td>1</td>\n",
              "      <td>0</td>\n",
              "      <td>0</td>\n",
              "      <td>0</td>\n",
              "      <td>0</td>\n",
              "      <td>0</td>\n",
              "      <td>0</td>\n",
              "      <td>0</td>\n",
              "    </tr>\n",
              "    <tr>\n",
              "      <th>2</th>\n",
              "      <td>0</td>\n",
              "      <td>0.0</td>\n",
              "      <td>1</td>\n",
              "      <td>Italian/French</td>\n",
              "      <td>10</td>\n",
              "      <td>29</td>\n",
              "      <td>0.0</td>\n",
              "      <td>0.0</td>\n",
              "      <td>0.0</td>\n",
              "      <td>0.0</td>\n",
              "      <td>0.0</td>\n",
              "      <td>0.0</td>\n",
              "      <td>12.849057</td>\n",
              "      <td>14.0</td>\n",
              "      <td>30</td>\n",
              "      <td>5.172995</td>\n",
              "      <td>8.349981</td>\n",
              "      <td>4.501537</td>\n",
              "      <td>air_e3020992d5fe5dfd_2017-04-08</td>\n",
              "      <td>4</td>\n",
              "      <td>5</td>\n",
              "      <td>8</td>\n",
              "      <td>14</td>\n",
              "      <td>13.625000</td>\n",
              "      <td>14.5</td>\n",
              "      <td>30</td>\n",
              "      <td>12.464435</td>\n",
              "      <td>12.0</td>\n",
              "      <td>30</td>\n",
              "      <td>12.210526</td>\n",
              "      <td>13.0</td>\n",
              "      <td>21</td>\n",
              "      <td>Tōkyō-to</td>\n",
              "      <td>Chūō-ku</td>\n",
              "      <td>0</td>\n",
              "      <td>0</td>\n",
              "      <td>0</td>\n",
              "      <td>0</td>\n",
              "      <td>0</td>\n",
              "      <td>0</td>\n",
              "      <td>0</td>\n",
              "      <td>1</td>\n",
              "      <td>0</td>\n",
              "      <td>0</td>\n",
              "      <td>0</td>\n",
              "      <td>0</td>\n",
              "      <td>0</td>\n",
              "      <td>0</td>\n",
              "      <td>0</td>\n",
              "      <td>1</td>\n",
              "      <td>0</td>\n",
              "      <td>0</td>\n",
              "      <td>0</td>\n",
              "      <td>0</td>\n",
              "      <td>0</td>\n",
              "      <td>0</td>\n",
              "      <td>0</td>\n",
              "    </tr>\n",
              "    <tr>\n",
              "      <th>3</th>\n",
              "      <td>0</td>\n",
              "      <td>0.0</td>\n",
              "      <td>0</td>\n",
              "      <td>Italian/French</td>\n",
              "      <td>10</td>\n",
              "      <td>29</td>\n",
              "      <td>0.0</td>\n",
              "      <td>0.0</td>\n",
              "      <td>0.0</td>\n",
              "      <td>0.0</td>\n",
              "      <td>0.0</td>\n",
              "      <td>0.0</td>\n",
              "      <td>12.354839</td>\n",
              "      <td>12.0</td>\n",
              "      <td>27</td>\n",
              "      <td>5.172995</td>\n",
              "      <td>8.349981</td>\n",
              "      <td>4.501537</td>\n",
              "      <td>air_e3020992d5fe5dfd_2017-04-10</td>\n",
              "      <td>4</td>\n",
              "      <td>0</td>\n",
              "      <td>10</td>\n",
              "      <td>15</td>\n",
              "      <td>9.687500</td>\n",
              "      <td>9.0</td>\n",
              "      <td>22</td>\n",
              "      <td>12.464435</td>\n",
              "      <td>12.0</td>\n",
              "      <td>30</td>\n",
              "      <td>12.210526</td>\n",
              "      <td>13.0</td>\n",
              "      <td>21</td>\n",
              "      <td>Tōkyō-to</td>\n",
              "      <td>Chūō-ku</td>\n",
              "      <td>0</td>\n",
              "      <td>0</td>\n",
              "      <td>0</td>\n",
              "      <td>0</td>\n",
              "      <td>0</td>\n",
              "      <td>0</td>\n",
              "      <td>0</td>\n",
              "      <td>1</td>\n",
              "      <td>0</td>\n",
              "      <td>0</td>\n",
              "      <td>0</td>\n",
              "      <td>0</td>\n",
              "      <td>0</td>\n",
              "      <td>0</td>\n",
              "      <td>0</td>\n",
              "      <td>1</td>\n",
              "      <td>0</td>\n",
              "      <td>0</td>\n",
              "      <td>0</td>\n",
              "      <td>0</td>\n",
              "      <td>0</td>\n",
              "      <td>0</td>\n",
              "      <td>0</td>\n",
              "    </tr>\n",
              "    <tr>\n",
              "      <th>4</th>\n",
              "      <td>0</td>\n",
              "      <td>0.0</td>\n",
              "      <td>0</td>\n",
              "      <td>Italian/French</td>\n",
              "      <td>10</td>\n",
              "      <td>29</td>\n",
              "      <td>0.0</td>\n",
              "      <td>0.0</td>\n",
              "      <td>0.0</td>\n",
              "      <td>0.0</td>\n",
              "      <td>0.0</td>\n",
              "      <td>0.0</td>\n",
              "      <td>12.354839</td>\n",
              "      <td>12.0</td>\n",
              "      <td>27</td>\n",
              "      <td>5.172995</td>\n",
              "      <td>8.349981</td>\n",
              "      <td>4.501537</td>\n",
              "      <td>air_e3020992d5fe5dfd_2017-04-11</td>\n",
              "      <td>4</td>\n",
              "      <td>1</td>\n",
              "      <td>11</td>\n",
              "      <td>15</td>\n",
              "      <td>11.025000</td>\n",
              "      <td>10.5</td>\n",
              "      <td>24</td>\n",
              "      <td>12.464435</td>\n",
              "      <td>12.0</td>\n",
              "      <td>30</td>\n",
              "      <td>12.210526</td>\n",
              "      <td>13.0</td>\n",
              "      <td>21</td>\n",
              "      <td>Tōkyō-to</td>\n",
              "      <td>Chūō-ku</td>\n",
              "      <td>0</td>\n",
              "      <td>0</td>\n",
              "      <td>0</td>\n",
              "      <td>0</td>\n",
              "      <td>0</td>\n",
              "      <td>0</td>\n",
              "      <td>0</td>\n",
              "      <td>1</td>\n",
              "      <td>0</td>\n",
              "      <td>0</td>\n",
              "      <td>0</td>\n",
              "      <td>0</td>\n",
              "      <td>0</td>\n",
              "      <td>0</td>\n",
              "      <td>0</td>\n",
              "      <td>1</td>\n",
              "      <td>0</td>\n",
              "      <td>0</td>\n",
              "      <td>0</td>\n",
              "      <td>0</td>\n",
              "      <td>0</td>\n",
              "      <td>0</td>\n",
              "      <td>0</td>\n",
              "    </tr>\n",
              "  </tbody>\n",
              "</table>\n",
              "</div>"
            ],
            "text/plain": [
              "   visitors  holiday_eve  ...  Western food Yakiniku/Korean food\n",
              "0         0          0.0  ...             0                    0\n",
              "1         0          0.0  ...             0                    0\n",
              "2         0          0.0  ...             0                    0\n",
              "3         0          0.0  ...             0                    0\n",
              "4         0          0.0  ...             0                    0\n",
              "\n",
              "[5 rows x 57 columns]"
            ]
          },
          "metadata": {
            "tags": []
          },
          "execution_count": 61
        }
      ]
    },
    {
      "cell_type": "code",
      "metadata": {
        "id": "J4rEFylXCeVo"
      },
      "source": [
        "# save newly created train and test set\n",
        "X.to_csv('new_train.csv',index = False)\n",
        "X_test.to_csv('new_test.csv',index = False)"
      ],
      "execution_count": 62,
      "outputs": []
    },
    {
      "cell_type": "markdown",
      "metadata": {
        "id": "tnOqNtzAADbB"
      },
      "source": [
        "## Training "
      ]
    },
    {
      "cell_type": "markdown",
      "metadata": {
        "id": "wzswR_cA8xHy"
      },
      "source": [
        "##### *Final train test set creation*"
      ]
    },
    {
      "cell_type": "code",
      "metadata": {
        "id": "6bekIs8Z-5Ml"
      },
      "source": [
        "# Reading the train and  test data from new_train. and new_test.csv files respectively\n",
        "ntrain = pd.read_csv(path + 'new_train.csv')\n",
        "ntest = pd.read_csv(path +'new_test.csv')"
      ],
      "execution_count": 63,
      "outputs": []
    },
    {
      "cell_type": "code",
      "metadata": {
        "id": "UEIbJj_THi7L"
      },
      "source": [
        "# dropping id and visitors columns from test dataset and id column from train dataset\n",
        "ntest_1=ntest.drop(['id','visitors'],axis=1)\n",
        "ntrain_1=ntrain.drop(['id'],axis=1)"
      ],
      "execution_count": 64,
      "outputs": []
    },
    {
      "cell_type": "code",
      "metadata": {
        "id": "1-Dn0dWJa-mR"
      },
      "source": [
        "# selecting final features to train on\n",
        "final_cols=['holiday_eve', 'non_working_day',\n",
        "       'genre_in_area', 'total_rt_in_area', 'reserve_visitors',\n",
        "       'reserve_-12_h', 'reserve_12_37_h', 'reserve_37_59_h',\n",
        "       'reserve_59_85_h', 'reserve_85+_h', 'nwd_mean_visitors',\n",
        "       'nwd_median_visitors', 'nwd_max_visitors', 'longitude_latitude_sum',\n",
        "       'diff_max_latitude', 'diff_max_longitude', 'visit_date_month',\n",
        "       'visit_date_dayofw', 'visit_date_dayofm', 'weekofyear',\n",
        "       'store_dayofw_mean_visitors', 'store_dayofw_median_visitors',\n",
        "       'store_dayofw_max_visitors',  'store_mean_visitors',\n",
        "       'store_median_visitors', 'store_max_visitors', 'store_month_mean_visitors', \n",
        "       'store_month_median_visitors','store_month_max_visitors',\n",
        "       'Fukuoka-ken', 'Hiroshima-ken', 'Hokkaidō', 'Hyōgo-ken', 'Miyagi-ken',\n",
        "       'Niigata-ken', 'Shizuoka-ken', 'Tōkyō-to', 'Ōsaka-fu', 'Asian',\n",
        "       'Bar/Cocktail', 'Cafe/Sweets', 'Creative cuisine', 'Dining bar',\n",
        "       'International cuisine', 'Italian/French', 'Izakaya', 'Japanese food',\n",
        "       'Karaoke/Party', 'Okonomiyaki/Monja/Teppanyaki', 'Other',\n",
        "       'Western food', 'Yakiniku/Korean food']"
      ],
      "execution_count": 65,
      "outputs": []
    },
    {
      "cell_type": "code",
      "metadata": {
        "colab": {
          "base_uri": "https://localhost:8080/",
          "height": 235
        },
        "id": "vQC85QpXAitW",
        "outputId": "1ecbd825-53bf-430c-fb6a-6cf7ee26996b"
      },
      "source": [
        "y = ntrain_1['visitors']\n",
        "x = ntrain_1[final_cols]\n",
        "test_x = ntest_1[final_cols]\n",
        "test_x.head()"
      ],
      "execution_count": 66,
      "outputs": [
        {
          "output_type": "execute_result",
          "data": {
            "text/html": [
              "<div>\n",
              "<style scoped>\n",
              "    .dataframe tbody tr th:only-of-type {\n",
              "        vertical-align: middle;\n",
              "    }\n",
              "\n",
              "    .dataframe tbody tr th {\n",
              "        vertical-align: top;\n",
              "    }\n",
              "\n",
              "    .dataframe thead th {\n",
              "        text-align: right;\n",
              "    }\n",
              "</style>\n",
              "<table border=\"1\" class=\"dataframe\">\n",
              "  <thead>\n",
              "    <tr style=\"text-align: right;\">\n",
              "      <th></th>\n",
              "      <th>holiday_eve</th>\n",
              "      <th>non_working_day</th>\n",
              "      <th>genre_in_area</th>\n",
              "      <th>total_rt_in_area</th>\n",
              "      <th>reserve_visitors</th>\n",
              "      <th>reserve_-12_h</th>\n",
              "      <th>reserve_12_37_h</th>\n",
              "      <th>reserve_37_59_h</th>\n",
              "      <th>reserve_59_85_h</th>\n",
              "      <th>reserve_85+_h</th>\n",
              "      <th>nwd_mean_visitors</th>\n",
              "      <th>nwd_median_visitors</th>\n",
              "      <th>nwd_max_visitors</th>\n",
              "      <th>longitude_latitude_sum</th>\n",
              "      <th>diff_max_latitude</th>\n",
              "      <th>diff_max_longitude</th>\n",
              "      <th>visit_date_month</th>\n",
              "      <th>visit_date_dayofw</th>\n",
              "      <th>visit_date_dayofm</th>\n",
              "      <th>weekofyear</th>\n",
              "      <th>store_dayofw_mean_visitors</th>\n",
              "      <th>store_dayofw_median_visitors</th>\n",
              "      <th>store_dayofw_max_visitors</th>\n",
              "      <th>store_mean_visitors</th>\n",
              "      <th>store_median_visitors</th>\n",
              "      <th>store_max_visitors</th>\n",
              "      <th>store_month_mean_visitors</th>\n",
              "      <th>store_month_median_visitors</th>\n",
              "      <th>store_month_max_visitors</th>\n",
              "      <th>Fukuoka-ken</th>\n",
              "      <th>Hiroshima-ken</th>\n",
              "      <th>Hokkaidō</th>\n",
              "      <th>Hyōgo-ken</th>\n",
              "      <th>Miyagi-ken</th>\n",
              "      <th>Niigata-ken</th>\n",
              "      <th>Shizuoka-ken</th>\n",
              "      <th>Tōkyō-to</th>\n",
              "      <th>Ōsaka-fu</th>\n",
              "      <th>Asian</th>\n",
              "      <th>Bar/Cocktail</th>\n",
              "      <th>Cafe/Sweets</th>\n",
              "      <th>Creative cuisine</th>\n",
              "      <th>Dining bar</th>\n",
              "      <th>International cuisine</th>\n",
              "      <th>Italian/French</th>\n",
              "      <th>Izakaya</th>\n",
              "      <th>Japanese food</th>\n",
              "      <th>Karaoke/Party</th>\n",
              "      <th>Okonomiyaki/Monja/Teppanyaki</th>\n",
              "      <th>Other</th>\n",
              "      <th>Western food</th>\n",
              "      <th>Yakiniku/Korean food</th>\n",
              "    </tr>\n",
              "  </thead>\n",
              "  <tbody>\n",
              "    <tr>\n",
              "      <th>0</th>\n",
              "      <td>0.0</td>\n",
              "      <td>0</td>\n",
              "      <td>10</td>\n",
              "      <td>29</td>\n",
              "      <td>0.0</td>\n",
              "      <td>0.0</td>\n",
              "      <td>0.0</td>\n",
              "      <td>0.0</td>\n",
              "      <td>0.0</td>\n",
              "      <td>0.0</td>\n",
              "      <td>12.354839</td>\n",
              "      <td>12.0</td>\n",
              "      <td>27</td>\n",
              "      <td>5.172995</td>\n",
              "      <td>8.349981</td>\n",
              "      <td>4.501537</td>\n",
              "      <td>4</td>\n",
              "      <td>3</td>\n",
              "      <td>6</td>\n",
              "      <td>14</td>\n",
              "      <td>11.157895</td>\n",
              "      <td>8.5</td>\n",
              "      <td>27</td>\n",
              "      <td>12.464435</td>\n",
              "      <td>12.0</td>\n",
              "      <td>30</td>\n",
              "      <td>12.210526</td>\n",
              "      <td>13.0</td>\n",
              "      <td>21</td>\n",
              "      <td>0</td>\n",
              "      <td>0</td>\n",
              "      <td>0</td>\n",
              "      <td>0</td>\n",
              "      <td>0</td>\n",
              "      <td>0</td>\n",
              "      <td>0</td>\n",
              "      <td>1</td>\n",
              "      <td>0</td>\n",
              "      <td>0</td>\n",
              "      <td>0</td>\n",
              "      <td>0</td>\n",
              "      <td>0</td>\n",
              "      <td>0</td>\n",
              "      <td>0</td>\n",
              "      <td>1</td>\n",
              "      <td>0</td>\n",
              "      <td>0</td>\n",
              "      <td>0</td>\n",
              "      <td>0</td>\n",
              "      <td>0</td>\n",
              "      <td>0</td>\n",
              "      <td>0</td>\n",
              "    </tr>\n",
              "    <tr>\n",
              "      <th>1</th>\n",
              "      <td>0.0</td>\n",
              "      <td>0</td>\n",
              "      <td>10</td>\n",
              "      <td>29</td>\n",
              "      <td>0.0</td>\n",
              "      <td>0.0</td>\n",
              "      <td>0.0</td>\n",
              "      <td>0.0</td>\n",
              "      <td>0.0</td>\n",
              "      <td>0.0</td>\n",
              "      <td>12.354839</td>\n",
              "      <td>12.0</td>\n",
              "      <td>27</td>\n",
              "      <td>5.172995</td>\n",
              "      <td>8.349981</td>\n",
              "      <td>4.501537</td>\n",
              "      <td>4</td>\n",
              "      <td>4</td>\n",
              "      <td>7</td>\n",
              "      <td>14</td>\n",
              "      <td>16.023256</td>\n",
              "      <td>18.0</td>\n",
              "      <td>25</td>\n",
              "      <td>12.464435</td>\n",
              "      <td>12.0</td>\n",
              "      <td>30</td>\n",
              "      <td>12.210526</td>\n",
              "      <td>13.0</td>\n",
              "      <td>21</td>\n",
              "      <td>0</td>\n",
              "      <td>0</td>\n",
              "      <td>0</td>\n",
              "      <td>0</td>\n",
              "      <td>0</td>\n",
              "      <td>0</td>\n",
              "      <td>0</td>\n",
              "      <td>1</td>\n",
              "      <td>0</td>\n",
              "      <td>0</td>\n",
              "      <td>0</td>\n",
              "      <td>0</td>\n",
              "      <td>0</td>\n",
              "      <td>0</td>\n",
              "      <td>0</td>\n",
              "      <td>1</td>\n",
              "      <td>0</td>\n",
              "      <td>0</td>\n",
              "      <td>0</td>\n",
              "      <td>0</td>\n",
              "      <td>0</td>\n",
              "      <td>0</td>\n",
              "      <td>0</td>\n",
              "    </tr>\n",
              "    <tr>\n",
              "      <th>2</th>\n",
              "      <td>0.0</td>\n",
              "      <td>1</td>\n",
              "      <td>10</td>\n",
              "      <td>29</td>\n",
              "      <td>0.0</td>\n",
              "      <td>0.0</td>\n",
              "      <td>0.0</td>\n",
              "      <td>0.0</td>\n",
              "      <td>0.0</td>\n",
              "      <td>0.0</td>\n",
              "      <td>12.849057</td>\n",
              "      <td>14.0</td>\n",
              "      <td>30</td>\n",
              "      <td>5.172995</td>\n",
              "      <td>8.349981</td>\n",
              "      <td>4.501537</td>\n",
              "      <td>4</td>\n",
              "      <td>5</td>\n",
              "      <td>8</td>\n",
              "      <td>14</td>\n",
              "      <td>13.625000</td>\n",
              "      <td>14.5</td>\n",
              "      <td>30</td>\n",
              "      <td>12.464435</td>\n",
              "      <td>12.0</td>\n",
              "      <td>30</td>\n",
              "      <td>12.210526</td>\n",
              "      <td>13.0</td>\n",
              "      <td>21</td>\n",
              "      <td>0</td>\n",
              "      <td>0</td>\n",
              "      <td>0</td>\n",
              "      <td>0</td>\n",
              "      <td>0</td>\n",
              "      <td>0</td>\n",
              "      <td>0</td>\n",
              "      <td>1</td>\n",
              "      <td>0</td>\n",
              "      <td>0</td>\n",
              "      <td>0</td>\n",
              "      <td>0</td>\n",
              "      <td>0</td>\n",
              "      <td>0</td>\n",
              "      <td>0</td>\n",
              "      <td>1</td>\n",
              "      <td>0</td>\n",
              "      <td>0</td>\n",
              "      <td>0</td>\n",
              "      <td>0</td>\n",
              "      <td>0</td>\n",
              "      <td>0</td>\n",
              "      <td>0</td>\n",
              "    </tr>\n",
              "    <tr>\n",
              "      <th>3</th>\n",
              "      <td>0.0</td>\n",
              "      <td>0</td>\n",
              "      <td>10</td>\n",
              "      <td>29</td>\n",
              "      <td>0.0</td>\n",
              "      <td>0.0</td>\n",
              "      <td>0.0</td>\n",
              "      <td>0.0</td>\n",
              "      <td>0.0</td>\n",
              "      <td>0.0</td>\n",
              "      <td>12.354839</td>\n",
              "      <td>12.0</td>\n",
              "      <td>27</td>\n",
              "      <td>5.172995</td>\n",
              "      <td>8.349981</td>\n",
              "      <td>4.501537</td>\n",
              "      <td>4</td>\n",
              "      <td>0</td>\n",
              "      <td>10</td>\n",
              "      <td>15</td>\n",
              "      <td>9.687500</td>\n",
              "      <td>9.0</td>\n",
              "      <td>22</td>\n",
              "      <td>12.464435</td>\n",
              "      <td>12.0</td>\n",
              "      <td>30</td>\n",
              "      <td>12.210526</td>\n",
              "      <td>13.0</td>\n",
              "      <td>21</td>\n",
              "      <td>0</td>\n",
              "      <td>0</td>\n",
              "      <td>0</td>\n",
              "      <td>0</td>\n",
              "      <td>0</td>\n",
              "      <td>0</td>\n",
              "      <td>0</td>\n",
              "      <td>1</td>\n",
              "      <td>0</td>\n",
              "      <td>0</td>\n",
              "      <td>0</td>\n",
              "      <td>0</td>\n",
              "      <td>0</td>\n",
              "      <td>0</td>\n",
              "      <td>0</td>\n",
              "      <td>1</td>\n",
              "      <td>0</td>\n",
              "      <td>0</td>\n",
              "      <td>0</td>\n",
              "      <td>0</td>\n",
              "      <td>0</td>\n",
              "      <td>0</td>\n",
              "      <td>0</td>\n",
              "    </tr>\n",
              "    <tr>\n",
              "      <th>4</th>\n",
              "      <td>0.0</td>\n",
              "      <td>0</td>\n",
              "      <td>10</td>\n",
              "      <td>29</td>\n",
              "      <td>0.0</td>\n",
              "      <td>0.0</td>\n",
              "      <td>0.0</td>\n",
              "      <td>0.0</td>\n",
              "      <td>0.0</td>\n",
              "      <td>0.0</td>\n",
              "      <td>12.354839</td>\n",
              "      <td>12.0</td>\n",
              "      <td>27</td>\n",
              "      <td>5.172995</td>\n",
              "      <td>8.349981</td>\n",
              "      <td>4.501537</td>\n",
              "      <td>4</td>\n",
              "      <td>1</td>\n",
              "      <td>11</td>\n",
              "      <td>15</td>\n",
              "      <td>11.025000</td>\n",
              "      <td>10.5</td>\n",
              "      <td>24</td>\n",
              "      <td>12.464435</td>\n",
              "      <td>12.0</td>\n",
              "      <td>30</td>\n",
              "      <td>12.210526</td>\n",
              "      <td>13.0</td>\n",
              "      <td>21</td>\n",
              "      <td>0</td>\n",
              "      <td>0</td>\n",
              "      <td>0</td>\n",
              "      <td>0</td>\n",
              "      <td>0</td>\n",
              "      <td>0</td>\n",
              "      <td>0</td>\n",
              "      <td>1</td>\n",
              "      <td>0</td>\n",
              "      <td>0</td>\n",
              "      <td>0</td>\n",
              "      <td>0</td>\n",
              "      <td>0</td>\n",
              "      <td>0</td>\n",
              "      <td>0</td>\n",
              "      <td>1</td>\n",
              "      <td>0</td>\n",
              "      <td>0</td>\n",
              "      <td>0</td>\n",
              "      <td>0</td>\n",
              "      <td>0</td>\n",
              "      <td>0</td>\n",
              "      <td>0</td>\n",
              "    </tr>\n",
              "  </tbody>\n",
              "</table>\n",
              "</div>"
            ],
            "text/plain": [
              "   holiday_eve  non_working_day  ...  Western food  Yakiniku/Korean food\n",
              "0          0.0                0  ...             0                     0\n",
              "1          0.0                0  ...             0                     0\n",
              "2          0.0                1  ...             0                     0\n",
              "3          0.0                0  ...             0                     0\n",
              "4          0.0                0  ...             0                     0\n",
              "\n",
              "[5 rows x 52 columns]"
            ]
          },
          "metadata": {
            "tags": []
          },
          "execution_count": 66
        }
      ]
    },
    {
      "cell_type": "markdown",
      "metadata": {
        "id": "evvqK0Fh2Hn9"
      },
      "source": [
        "##### *Linear Regression*"
      ]
    },
    {
      "cell_type": "code",
      "metadata": {
        "id": "2xFUcNIRDIYm"
      },
      "source": [
        "from sklearn import datasets, linear_model\n",
        "\n",
        "# Create linear regression object\n",
        "regr = linear_model.LinearRegression()\n",
        "\n",
        "# Train the model using the training sets\n",
        "# x = features used for training\n",
        "# y = Target(ie- no of visitors)\n",
        "regr.fit(x, y)\n",
        "\n",
        "# Make predictions using the testing set\n",
        "y_pred = regr.predict(test_x)"
      ],
      "execution_count": 67,
      "outputs": []
    },
    {
      "cell_type": "code",
      "metadata": {
        "id": "GX470Is0Rnwn",
        "colab": {
          "base_uri": "https://localhost:8080/"
        },
        "outputId": "264bedbb-8a37-4930-d724-497499133970"
      },
      "source": [
        "# create final_submissions dataframe out of y_pred array\n",
        "final_submissions = ntest[['id','visitors']]\n",
        "final_submissions['id'] = ntest[['id']]\n",
        "final_submissions['visitors'] = pd.DataFrame({'visitors': y_pred})"
      ],
      "execution_count": 68,
      "outputs": [
        {
          "output_type": "stream",
          "text": [
            "/usr/local/lib/python3.6/dist-packages/ipykernel_launcher.py:3: SettingWithCopyWarning: \n",
            "A value is trying to be set on a copy of a slice from a DataFrame.\n",
            "Try using .loc[row_indexer,col_indexer] = value instead\n",
            "\n",
            "See the caveats in the documentation: https://pandas.pydata.org/pandas-docs/stable/user_guide/indexing.html#returning-a-view-versus-a-copy\n",
            "  This is separate from the ipykernel package so we can avoid doing imports until\n",
            "/usr/local/lib/python3.6/dist-packages/ipykernel_launcher.py:4: SettingWithCopyWarning: \n",
            "A value is trying to be set on a copy of a slice from a DataFrame.\n",
            "Try using .loc[row_indexer,col_indexer] = value instead\n",
            "\n",
            "See the caveats in the documentation: https://pandas.pydata.org/pandas-docs/stable/user_guide/indexing.html#returning-a-view-versus-a-copy\n",
            "  after removing the cwd from sys.path.\n"
          ],
          "name": "stderr"
        }
      ]
    },
    {
      "cell_type": "code",
      "metadata": {
        "id": "BEw-b9jJUBhj"
      },
      "source": [
        "final_submissions = final_submissions.reindex(['id','visitors'],axis=1)"
      ],
      "execution_count": 69,
      "outputs": []
    },
    {
      "cell_type": "code",
      "metadata": {
        "id": "ogE5O9ZkTT2U"
      },
      "source": [
        "#Generate a submission csv file out of the predictions obtained from linear regression\n",
        "final_submissions.to_csv('LinearRegression.csv',index = False)"
      ],
      "execution_count": 70,
      "outputs": []
    },
    {
      "cell_type": "markdown",
      "metadata": {
        "id": "DA7V8k9aK06D"
      },
      "source": [
        "##### *Decision Tree Regressor - Hyper parameter Tuning with GridSearch and Cross Validation of 5*"
      ]
    },
    {
      "cell_type": "code",
      "metadata": {
        "id": "402c4l52K3U9",
        "colab": {
          "base_uri": "https://localhost:8080/"
        },
        "outputId": "802e598e-dc3d-4361-f6c7-b4cb500da8d9"
      },
      "source": [
        "# Hyper parameters for Decision Tree Regressor are max_depth and min_samples_split\n",
        "# njobs = -1 which means that all threads are run parallelly\n",
        "\n",
        "from sklearn.model_selection import GridSearchCV\n",
        "from sklearn.tree import DecisionTreeRegressor\n",
        "\n",
        "model = DecisionTreeRegressor()\n",
        "gs = GridSearchCV(model,\n",
        "                  param_grid = {'max_depth': range(1, 11),\n",
        "                                'min_samples_split': range(10, 60, 10)},\n",
        "                  cv=5,\n",
        "                  n_jobs=-1,\n",
        "                  scoring='neg_mean_squared_log_error')\n",
        "\n",
        "#Fit the model\n",
        "gs.fit(x,y)\n",
        "print(gs.best_params_)\n",
        "print(-gs.best_score_)"
      ],
      "execution_count": 71,
      "outputs": [
        {
          "output_type": "stream",
          "text": [
            "{'max_depth': 10, 'min_samples_split': 50}\n",
            "0.274917053772466\n"
          ],
          "name": "stdout"
        }
      ]
    },
    {
      "cell_type": "code",
      "metadata": {
        "id": "cDZAm7kDPldH"
      },
      "source": [
        "# Make predictions using the Decision Tree Regressor\n",
        "y_pred_tree = gs.predict(test_x)"
      ],
      "execution_count": 72,
      "outputs": []
    },
    {
      "cell_type": "code",
      "metadata": {
        "id": "9rA8o0qsRCdm",
        "colab": {
          "base_uri": "https://localhost:8080/",
          "height": 416
        },
        "outputId": "28dd6f9f-b403-4f5b-fd51-e230b8f00da9"
      },
      "source": [
        "# create final_submissions dataframe out of y_pred_tree array\n",
        "final_submissions_tree = ntest[['id','visitors']]\n",
        "final_submissions_tree['id'] = ntest[['id']]\n",
        "final_submissions_tree['visitors'] = pd.DataFrame({'visitors': y_pred_tree})\n",
        "final_submissions_tree = final_submissions_tree.reindex(['id','visitors'],axis=1)\n",
        "final_submissions_tree.head()"
      ],
      "execution_count": 73,
      "outputs": [
        {
          "output_type": "stream",
          "text": [
            "/usr/local/lib/python3.6/dist-packages/ipykernel_launcher.py:3: SettingWithCopyWarning: \n",
            "A value is trying to be set on a copy of a slice from a DataFrame.\n",
            "Try using .loc[row_indexer,col_indexer] = value instead\n",
            "\n",
            "See the caveats in the documentation: https://pandas.pydata.org/pandas-docs/stable/user_guide/indexing.html#returning-a-view-versus-a-copy\n",
            "  This is separate from the ipykernel package so we can avoid doing imports until\n",
            "/usr/local/lib/python3.6/dist-packages/ipykernel_launcher.py:4: SettingWithCopyWarning: \n",
            "A value is trying to be set on a copy of a slice from a DataFrame.\n",
            "Try using .loc[row_indexer,col_indexer] = value instead\n",
            "\n",
            "See the caveats in the documentation: https://pandas.pydata.org/pandas-docs/stable/user_guide/indexing.html#returning-a-view-versus-a-copy\n",
            "  after removing the cwd from sys.path.\n"
          ],
          "name": "stderr"
        },
        {
          "output_type": "execute_result",
          "data": {
            "text/html": [
              "<div>\n",
              "<style scoped>\n",
              "    .dataframe tbody tr th:only-of-type {\n",
              "        vertical-align: middle;\n",
              "    }\n",
              "\n",
              "    .dataframe tbody tr th {\n",
              "        vertical-align: top;\n",
              "    }\n",
              "\n",
              "    .dataframe thead th {\n",
              "        text-align: right;\n",
              "    }\n",
              "</style>\n",
              "<table border=\"1\" class=\"dataframe\">\n",
              "  <thead>\n",
              "    <tr style=\"text-align: right;\">\n",
              "      <th></th>\n",
              "      <th>id</th>\n",
              "      <th>visitors</th>\n",
              "    </tr>\n",
              "  </thead>\n",
              "  <tbody>\n",
              "    <tr>\n",
              "      <th>0</th>\n",
              "      <td>air_e3020992d5fe5dfd_2017-04-06</td>\n",
              "      <td>10.301092</td>\n",
              "    </tr>\n",
              "    <tr>\n",
              "      <th>1</th>\n",
              "      <td>air_e3020992d5fe5dfd_2017-04-07</td>\n",
              "      <td>16.822053</td>\n",
              "    </tr>\n",
              "    <tr>\n",
              "      <th>2</th>\n",
              "      <td>air_e3020992d5fe5dfd_2017-04-08</td>\n",
              "      <td>13.060459</td>\n",
              "    </tr>\n",
              "    <tr>\n",
              "      <th>3</th>\n",
              "      <td>air_e3020992d5fe5dfd_2017-04-10</td>\n",
              "      <td>10.301092</td>\n",
              "    </tr>\n",
              "    <tr>\n",
              "      <th>4</th>\n",
              "      <td>air_e3020992d5fe5dfd_2017-04-11</td>\n",
              "      <td>10.301092</td>\n",
              "    </tr>\n",
              "  </tbody>\n",
              "</table>\n",
              "</div>"
            ],
            "text/plain": [
              "                                id   visitors\n",
              "0  air_e3020992d5fe5dfd_2017-04-06  10.301092\n",
              "1  air_e3020992d5fe5dfd_2017-04-07  16.822053\n",
              "2  air_e3020992d5fe5dfd_2017-04-08  13.060459\n",
              "3  air_e3020992d5fe5dfd_2017-04-10  10.301092\n",
              "4  air_e3020992d5fe5dfd_2017-04-11  10.301092"
            ]
          },
          "metadata": {
            "tags": []
          },
          "execution_count": 73
        }
      ]
    },
    {
      "cell_type": "code",
      "metadata": {
        "id": "VIB2jkBkSHNO"
      },
      "source": [
        "#Generate a submission csv file out of the predictions obtained from Decision Tree Regressor\n",
        "final_submissions_tree.to_csv('DecisionTree.csv',index = False)"
      ],
      "execution_count": 74,
      "outputs": []
    },
    {
      "cell_type": "markdown",
      "metadata": {
        "id": "1oHPeYkcnd4m"
      },
      "source": [
        "##### *K nearest neighbors*"
      ]
    },
    {
      "cell_type": "code",
      "metadata": {
        "id": "hBD5KpN9n9ek",
        "colab": {
          "base_uri": "https://localhost:8080/"
        },
        "outputId": "6f6c41f8-05b1-4aab-a2d4-1a527db02b2a"
      },
      "source": [
        "model1 = KNeighborsRegressor(n_jobs=-1,n_neighbors=4)\n",
        "print(model1)\n",
        "\n",
        "#Fit Knn model\n",
        "model1.fit(x, y)\n",
        "preds1 = model1.predict(x)\n",
        "print('RMSLE KNeighborsRegressor: ', mean_squared_log_error(y, preds1))\n",
        "preds1 = model1.predict(test_x)\n",
        "\n"
      ],
      "execution_count": 71,
      "outputs": [
        {
          "output_type": "stream",
          "text": [
            "KNeighborsRegressor(algorithm='auto', leaf_size=30, metric='minkowski',\n",
            "                    metric_params=None, n_jobs=-1, n_neighbors=4, p=2,\n",
            "                    weights='uniform')\n",
            "RMSLE KNeighborsRegressor:  0.1899994539937567\n"
          ],
          "name": "stdout"
        }
      ]
    },
    {
      "cell_type": "code",
      "metadata": {
        "id": "DiUCkvuqjqV6",
        "colab": {
          "base_uri": "https://localhost:8080/",
          "height": 416
        },
        "outputId": "6a3edff1-9777-4f86-9a86-6be1f802fbc9"
      },
      "source": [
        "# create final_submissions dataframe out of preds1 array\n",
        "final_submissions_knn_1 = ntest[['id','visitors']]\n",
        "final_submissions_knn_1['id'] = ntest[['id']]\n",
        "final_submissions_knn_1['visitors'] = pd.DataFrame({'visitors': preds1})\n",
        "final_submissions_knn_1 = final_submissions_knn_1.reindex(['id','visitors'],axis=1)\n",
        "final_submissions_knn_1.head()"
      ],
      "execution_count": 72,
      "outputs": [
        {
          "output_type": "stream",
          "text": [
            "/usr/local/lib/python3.6/dist-packages/ipykernel_launcher.py:3: SettingWithCopyWarning: \n",
            "A value is trying to be set on a copy of a slice from a DataFrame.\n",
            "Try using .loc[row_indexer,col_indexer] = value instead\n",
            "\n",
            "See the caveats in the documentation: https://pandas.pydata.org/pandas-docs/stable/user_guide/indexing.html#returning-a-view-versus-a-copy\n",
            "  This is separate from the ipykernel package so we can avoid doing imports until\n",
            "/usr/local/lib/python3.6/dist-packages/ipykernel_launcher.py:4: SettingWithCopyWarning: \n",
            "A value is trying to be set on a copy of a slice from a DataFrame.\n",
            "Try using .loc[row_indexer,col_indexer] = value instead\n",
            "\n",
            "See the caveats in the documentation: https://pandas.pydata.org/pandas-docs/stable/user_guide/indexing.html#returning-a-view-versus-a-copy\n",
            "  after removing the cwd from sys.path.\n"
          ],
          "name": "stderr"
        },
        {
          "output_type": "execute_result",
          "data": {
            "text/html": [
              "<div>\n",
              "<style scoped>\n",
              "    .dataframe tbody tr th:only-of-type {\n",
              "        vertical-align: middle;\n",
              "    }\n",
              "\n",
              "    .dataframe tbody tr th {\n",
              "        vertical-align: top;\n",
              "    }\n",
              "\n",
              "    .dataframe thead th {\n",
              "        text-align: right;\n",
              "    }\n",
              "</style>\n",
              "<table border=\"1\" class=\"dataframe\">\n",
              "  <thead>\n",
              "    <tr style=\"text-align: right;\">\n",
              "      <th></th>\n",
              "      <th>id</th>\n",
              "      <th>visitors</th>\n",
              "    </tr>\n",
              "  </thead>\n",
              "  <tbody>\n",
              "    <tr>\n",
              "      <th>0</th>\n",
              "      <td>air_e3020992d5fe5dfd_2017-04-06</td>\n",
              "      <td>8.25</td>\n",
              "    </tr>\n",
              "    <tr>\n",
              "      <th>1</th>\n",
              "      <td>air_e3020992d5fe5dfd_2017-04-07</td>\n",
              "      <td>17.75</td>\n",
              "    </tr>\n",
              "    <tr>\n",
              "      <th>2</th>\n",
              "      <td>air_e3020992d5fe5dfd_2017-04-08</td>\n",
              "      <td>14.75</td>\n",
              "    </tr>\n",
              "    <tr>\n",
              "      <th>3</th>\n",
              "      <td>air_e3020992d5fe5dfd_2017-04-10</td>\n",
              "      <td>9.00</td>\n",
              "    </tr>\n",
              "    <tr>\n",
              "      <th>4</th>\n",
              "      <td>air_e3020992d5fe5dfd_2017-04-11</td>\n",
              "      <td>9.00</td>\n",
              "    </tr>\n",
              "  </tbody>\n",
              "</table>\n",
              "</div>"
            ],
            "text/plain": [
              "                                id  visitors\n",
              "0  air_e3020992d5fe5dfd_2017-04-06      8.25\n",
              "1  air_e3020992d5fe5dfd_2017-04-07     17.75\n",
              "2  air_e3020992d5fe5dfd_2017-04-08     14.75\n",
              "3  air_e3020992d5fe5dfd_2017-04-10      9.00\n",
              "4  air_e3020992d5fe5dfd_2017-04-11      9.00"
            ]
          },
          "metadata": {
            "tags": []
          },
          "execution_count": 72
        }
      ]
    },
    {
      "cell_type": "code",
      "metadata": {
        "id": "O6fWqWNbHKtp"
      },
      "source": [
        "final_submissions_knn_1.to_csv('Knn_k=4.csv',index = False)"
      ],
      "execution_count": 73,
      "outputs": []
    },
    {
      "cell_type": "code",
      "metadata": {
        "id": "SbxJvafzh52y",
        "colab": {
          "base_uri": "https://localhost:8080/"
        },
        "outputId": "69a0ae81-3fe0-4070-91c7-852d78025f67"
      },
      "source": [
        "# Knn with neighbors=3 \n",
        "from sklearn.metrics import mean_squared_log_error\n",
        "from sklearn.neighbors import KNeighborsRegressor\n",
        "\n",
        "model2 = KNeighborsRegressor(n_jobs=-1,n_neighbors=3)\n",
        "print(model2)\n",
        "\n",
        "model2.fit(x, y)\n",
        "preds2 = model2.predict(x)\n",
        "print('RMSLE KNeighborsRegressor: ', mean_squared_log_error(y, preds2))\n",
        "preds2 = model2.predict(test_x)"
      ],
      "execution_count": 74,
      "outputs": [
        {
          "output_type": "stream",
          "text": [
            "KNeighborsRegressor(algorithm='auto', leaf_size=30, metric='minkowski',\n",
            "                    metric_params=None, n_jobs=-1, n_neighbors=3, p=2,\n",
            "                    weights='uniform')\n",
            "RMSLE KNeighborsRegressor:  0.17018163164083275\n"
          ],
          "name": "stdout"
        }
      ]
    },
    {
      "cell_type": "code",
      "metadata": {
        "id": "zyPYA80SoLsq",
        "colab": {
          "base_uri": "https://localhost:8080/",
          "height": 416
        },
        "outputId": "1bf968e7-35a9-427c-a7f5-73569519fef9"
      },
      "source": [
        "# create final_submissions dataframe out of preds2 array\n",
        "final_submissions_knn = ntest[['id','visitors']]\n",
        "final_submissions_knn['id'] = ntest[['id']]\n",
        "final_submissions_knn['visitors'] = pd.DataFrame({'visitors': preds2})\n",
        "final_submissions_knn = final_submissions_knn.reindex(['id','visitors'],axis=1)\n",
        "final_submissions_knn.head()"
      ],
      "execution_count": 75,
      "outputs": [
        {
          "output_type": "stream",
          "text": [
            "/usr/local/lib/python3.6/dist-packages/ipykernel_launcher.py:3: SettingWithCopyWarning: \n",
            "A value is trying to be set on a copy of a slice from a DataFrame.\n",
            "Try using .loc[row_indexer,col_indexer] = value instead\n",
            "\n",
            "See the caveats in the documentation: https://pandas.pydata.org/pandas-docs/stable/user_guide/indexing.html#returning-a-view-versus-a-copy\n",
            "  This is separate from the ipykernel package so we can avoid doing imports until\n",
            "/usr/local/lib/python3.6/dist-packages/ipykernel_launcher.py:4: SettingWithCopyWarning: \n",
            "A value is trying to be set on a copy of a slice from a DataFrame.\n",
            "Try using .loc[row_indexer,col_indexer] = value instead\n",
            "\n",
            "See the caveats in the documentation: https://pandas.pydata.org/pandas-docs/stable/user_guide/indexing.html#returning-a-view-versus-a-copy\n",
            "  after removing the cwd from sys.path.\n"
          ],
          "name": "stderr"
        },
        {
          "output_type": "execute_result",
          "data": {
            "text/html": [
              "<div>\n",
              "<style scoped>\n",
              "    .dataframe tbody tr th:only-of-type {\n",
              "        vertical-align: middle;\n",
              "    }\n",
              "\n",
              "    .dataframe tbody tr th {\n",
              "        vertical-align: top;\n",
              "    }\n",
              "\n",
              "    .dataframe thead th {\n",
              "        text-align: right;\n",
              "    }\n",
              "</style>\n",
              "<table border=\"1\" class=\"dataframe\">\n",
              "  <thead>\n",
              "    <tr style=\"text-align: right;\">\n",
              "      <th></th>\n",
              "      <th>id</th>\n",
              "      <th>visitors</th>\n",
              "    </tr>\n",
              "  </thead>\n",
              "  <tbody>\n",
              "    <tr>\n",
              "      <th>0</th>\n",
              "      <td>air_e3020992d5fe5dfd_2017-04-06</td>\n",
              "      <td>7.666667</td>\n",
              "    </tr>\n",
              "    <tr>\n",
              "      <th>1</th>\n",
              "      <td>air_e3020992d5fe5dfd_2017-04-07</td>\n",
              "      <td>17.333333</td>\n",
              "    </tr>\n",
              "    <tr>\n",
              "      <th>2</th>\n",
              "      <td>air_e3020992d5fe5dfd_2017-04-08</td>\n",
              "      <td>15.000000</td>\n",
              "    </tr>\n",
              "    <tr>\n",
              "      <th>3</th>\n",
              "      <td>air_e3020992d5fe5dfd_2017-04-10</td>\n",
              "      <td>6.666667</td>\n",
              "    </tr>\n",
              "    <tr>\n",
              "      <th>4</th>\n",
              "      <td>air_e3020992d5fe5dfd_2017-04-11</td>\n",
              "      <td>8.000000</td>\n",
              "    </tr>\n",
              "  </tbody>\n",
              "</table>\n",
              "</div>"
            ],
            "text/plain": [
              "                                id   visitors\n",
              "0  air_e3020992d5fe5dfd_2017-04-06   7.666667\n",
              "1  air_e3020992d5fe5dfd_2017-04-07  17.333333\n",
              "2  air_e3020992d5fe5dfd_2017-04-08  15.000000\n",
              "3  air_e3020992d5fe5dfd_2017-04-10   6.666667\n",
              "4  air_e3020992d5fe5dfd_2017-04-11   8.000000"
            ]
          },
          "metadata": {
            "tags": []
          },
          "execution_count": 75
        }
      ]
    },
    {
      "cell_type": "code",
      "metadata": {
        "id": "_2aH6jBDoc7x"
      },
      "source": [
        "#Generate a submission csv file out of the predictions obtained from Knn\n",
        "final_submissions_knn.to_csv('Knn_k=3.csv',index = False)"
      ],
      "execution_count": 76,
      "outputs": []
    },
    {
      "cell_type": "markdown",
      "metadata": {
        "id": "nXV6AZjkgicL"
      },
      "source": [
        "##### *XgBoost Model using train,test and split method to split train dataset into Training and Validation Datasets*"
      ]
    },
    {
      "cell_type": "code",
      "metadata": {
        "id": "f0CaEh6RguhV",
        "colab": {
          "base_uri": "https://localhost:8080/"
        },
        "outputId": "8feb789b-74d3-48e6-bac1-ca7eb7f7c6ed"
      },
      "source": [
        "  \n",
        "# Splitting \n",
        "train_X, test_valid_x, train_y, test_valid_y = train_test_split(x, y, test_size = 0.3, random_state = 123) \n",
        "  \n",
        "# Instantiation \n",
        "xgb_r = xg.XGBRegressor(objective ='reg:linear', n_estimators = 10, seed = 123) \n",
        "  \n",
        "# Fitting the model \n",
        "xgb_r.fit(train_X, train_y) \n",
        "  \n",
        "# Predict the model \n",
        "pred = xgb_r.predict(test_valid_x) \n",
        "  \n",
        "# RMSE Computation \n",
        "rmse = np.sqrt(mean_squared_log_error(test_valid_y, pred)) \n",
        "print(\"RMSE : % f\" %(rmse)) "
      ],
      "execution_count": 77,
      "outputs": [
        {
          "output_type": "stream",
          "text": [
            "[12:39:51] WARNING: /workspace/src/objective/regression_obj.cu:152: reg:linear is now deprecated in favor of reg:squarederror.\n",
            "RMSE :  0.587321\n"
          ],
          "name": "stdout"
        }
      ]
    },
    {
      "cell_type": "code",
      "metadata": {
        "id": "e0aWdS1jjD6h"
      },
      "source": [
        "y_pred_xgboost = xgb_r.predict(test_x)"
      ],
      "execution_count": 78,
      "outputs": []
    },
    {
      "cell_type": "code",
      "metadata": {
        "id": "_X7VsoIljXBn",
        "colab": {
          "base_uri": "https://localhost:8080/",
          "height": 416
        },
        "outputId": "7e33f5e1-eb3c-4177-9770-5f5e5ba3f171"
      },
      "source": [
        "final_submissions_xgboost = ntest[['id','visitors']]\n",
        "final_submissions_xgboost['id'] = ntest[['id']]\n",
        "final_submissions_xgboost['visitors'] = pd.DataFrame({'visitors': y_pred_xgboost})\n",
        "final_submissions_xgboost = final_submissions_xgboost.reindex(['id','visitors'],axis=1)\n",
        "final_submissions_xgboost.head()"
      ],
      "execution_count": 79,
      "outputs": [
        {
          "output_type": "stream",
          "text": [
            "/usr/local/lib/python3.6/dist-packages/ipykernel_launcher.py:2: SettingWithCopyWarning: \n",
            "A value is trying to be set on a copy of a slice from a DataFrame.\n",
            "Try using .loc[row_indexer,col_indexer] = value instead\n",
            "\n",
            "See the caveats in the documentation: https://pandas.pydata.org/pandas-docs/stable/user_guide/indexing.html#returning-a-view-versus-a-copy\n",
            "  \n",
            "/usr/local/lib/python3.6/dist-packages/ipykernel_launcher.py:3: SettingWithCopyWarning: \n",
            "A value is trying to be set on a copy of a slice from a DataFrame.\n",
            "Try using .loc[row_indexer,col_indexer] = value instead\n",
            "\n",
            "See the caveats in the documentation: https://pandas.pydata.org/pandas-docs/stable/user_guide/indexing.html#returning-a-view-versus-a-copy\n",
            "  This is separate from the ipykernel package so we can avoid doing imports until\n"
          ],
          "name": "stderr"
        },
        {
          "output_type": "execute_result",
          "data": {
            "text/html": [
              "<div>\n",
              "<style scoped>\n",
              "    .dataframe tbody tr th:only-of-type {\n",
              "        vertical-align: middle;\n",
              "    }\n",
              "\n",
              "    .dataframe tbody tr th {\n",
              "        vertical-align: top;\n",
              "    }\n",
              "\n",
              "    .dataframe thead th {\n",
              "        text-align: right;\n",
              "    }\n",
              "</style>\n",
              "<table border=\"1\" class=\"dataframe\">\n",
              "  <thead>\n",
              "    <tr style=\"text-align: right;\">\n",
              "      <th></th>\n",
              "      <th>id</th>\n",
              "      <th>visitors</th>\n",
              "    </tr>\n",
              "  </thead>\n",
              "  <tbody>\n",
              "    <tr>\n",
              "      <th>0</th>\n",
              "      <td>air_e3020992d5fe5dfd_2017-04-06</td>\n",
              "      <td>7.805145</td>\n",
              "    </tr>\n",
              "    <tr>\n",
              "      <th>1</th>\n",
              "      <td>air_e3020992d5fe5dfd_2017-04-07</td>\n",
              "      <td>10.205526</td>\n",
              "    </tr>\n",
              "    <tr>\n",
              "      <th>2</th>\n",
              "      <td>air_e3020992d5fe5dfd_2017-04-08</td>\n",
              "      <td>8.894953</td>\n",
              "    </tr>\n",
              "    <tr>\n",
              "      <th>3</th>\n",
              "      <td>air_e3020992d5fe5dfd_2017-04-10</td>\n",
              "      <td>6.540884</td>\n",
              "    </tr>\n",
              "    <tr>\n",
              "      <th>4</th>\n",
              "      <td>air_e3020992d5fe5dfd_2017-04-11</td>\n",
              "      <td>7.805145</td>\n",
              "    </tr>\n",
              "  </tbody>\n",
              "</table>\n",
              "</div>"
            ],
            "text/plain": [
              "                                id   visitors\n",
              "0  air_e3020992d5fe5dfd_2017-04-06   7.805145\n",
              "1  air_e3020992d5fe5dfd_2017-04-07  10.205526\n",
              "2  air_e3020992d5fe5dfd_2017-04-08   8.894953\n",
              "3  air_e3020992d5fe5dfd_2017-04-10   6.540884\n",
              "4  air_e3020992d5fe5dfd_2017-04-11   7.805145"
            ]
          },
          "metadata": {
            "tags": []
          },
          "execution_count": 79
        }
      ]
    },
    {
      "cell_type": "code",
      "metadata": {
        "id": "gdk0s1-4juua"
      },
      "source": [
        "final_submissions_xgboost.to_csv('XGBoost.csv',index = False)"
      ],
      "execution_count": 80,
      "outputs": []
    },
    {
      "cell_type": "markdown",
      "metadata": {
        "id": "QRDiy1Wvfg14"
      },
      "source": [
        "##### *Light Gradient Boosting Model*"
      ]
    },
    {
      "cell_type": "code",
      "metadata": {
        "id": "Ia_Pb9wPnqXr"
      },
      "source": [
        "import lightgbm\n",
        "# Light GBM Train on whole data set -\n",
        "parameters = {}\n",
        "\n",
        "# Create the LightGBM data containers\n",
        "\n",
        "train_data = lightgbm.Dataset(x, label=y)\n",
        "model = lightgbm.train(parameters,train_data)\n",
        "\n",
        "# Predict the model \n",
        "y_pred_lgbm = model.predict(test_x)"
      ],
      "execution_count": 86,
      "outputs": []
    },
    {
      "cell_type": "code",
      "metadata": {
        "id": "04edlTWIqida",
        "colab": {
          "base_uri": "https://localhost:8080/",
          "height": 416
        },
        "outputId": "fef54c94-b3d6-4b7e-842c-86810d08be04"
      },
      "source": [
        "# Genrating Submission For Light GBM without train_test_split\n",
        "final_submissions_lgbm_without = ntest[['id','visitors']]\n",
        "final_submissions_lgbm_without['id'] = ntest[['id']]\n",
        "final_submissions_lgbm_without['visitors'] = pd.DataFrame({'visitors': y_pred_lgbm})\n",
        "final_submissions_lgbm_without = final_submissions_lgbm_without.reindex(['id','visitors'],axis=1)\n",
        "final_submissions_lgbm_without.head()"
      ],
      "execution_count": 87,
      "outputs": [
        {
          "output_type": "stream",
          "text": [
            "/usr/local/lib/python3.6/dist-packages/ipykernel_launcher.py:3: SettingWithCopyWarning: \n",
            "A value is trying to be set on a copy of a slice from a DataFrame.\n",
            "Try using .loc[row_indexer,col_indexer] = value instead\n",
            "\n",
            "See the caveats in the documentation: https://pandas.pydata.org/pandas-docs/stable/user_guide/indexing.html#returning-a-view-versus-a-copy\n",
            "  This is separate from the ipykernel package so we can avoid doing imports until\n",
            "/usr/local/lib/python3.6/dist-packages/ipykernel_launcher.py:4: SettingWithCopyWarning: \n",
            "A value is trying to be set on a copy of a slice from a DataFrame.\n",
            "Try using .loc[row_indexer,col_indexer] = value instead\n",
            "\n",
            "See the caveats in the documentation: https://pandas.pydata.org/pandas-docs/stable/user_guide/indexing.html#returning-a-view-versus-a-copy\n",
            "  after removing the cwd from sys.path.\n"
          ],
          "name": "stderr"
        },
        {
          "output_type": "execute_result",
          "data": {
            "text/html": [
              "<div>\n",
              "<style scoped>\n",
              "    .dataframe tbody tr th:only-of-type {\n",
              "        vertical-align: middle;\n",
              "    }\n",
              "\n",
              "    .dataframe tbody tr th {\n",
              "        vertical-align: top;\n",
              "    }\n",
              "\n",
              "    .dataframe thead th {\n",
              "        text-align: right;\n",
              "    }\n",
              "</style>\n",
              "<table border=\"1\" class=\"dataframe\">\n",
              "  <thead>\n",
              "    <tr style=\"text-align: right;\">\n",
              "      <th></th>\n",
              "      <th>id</th>\n",
              "      <th>visitors</th>\n",
              "    </tr>\n",
              "  </thead>\n",
              "  <tbody>\n",
              "    <tr>\n",
              "      <th>0</th>\n",
              "      <td>air_e3020992d5fe5dfd_2017-04-06</td>\n",
              "      <td>10.462215</td>\n",
              "    </tr>\n",
              "    <tr>\n",
              "      <th>1</th>\n",
              "      <td>air_e3020992d5fe5dfd_2017-04-07</td>\n",
              "      <td>15.599184</td>\n",
              "    </tr>\n",
              "    <tr>\n",
              "      <th>2</th>\n",
              "      <td>air_e3020992d5fe5dfd_2017-04-08</td>\n",
              "      <td>13.924715</td>\n",
              "    </tr>\n",
              "    <tr>\n",
              "      <th>3</th>\n",
              "      <td>air_e3020992d5fe5dfd_2017-04-10</td>\n",
              "      <td>9.514874</td>\n",
              "    </tr>\n",
              "    <tr>\n",
              "      <th>4</th>\n",
              "      <td>air_e3020992d5fe5dfd_2017-04-11</td>\n",
              "      <td>10.802720</td>\n",
              "    </tr>\n",
              "  </tbody>\n",
              "</table>\n",
              "</div>"
            ],
            "text/plain": [
              "                                id   visitors\n",
              "0  air_e3020992d5fe5dfd_2017-04-06  10.462215\n",
              "1  air_e3020992d5fe5dfd_2017-04-07  15.599184\n",
              "2  air_e3020992d5fe5dfd_2017-04-08  13.924715\n",
              "3  air_e3020992d5fe5dfd_2017-04-10   9.514874\n",
              "4  air_e3020992d5fe5dfd_2017-04-11  10.802720"
            ]
          },
          "metadata": {
            "tags": []
          },
          "execution_count": 87
        }
      ]
    },
    {
      "cell_type": "code",
      "metadata": {
        "id": "BkwG-fpurP-T"
      },
      "source": [
        "final_submissions_lgbm_without.to_csv('LightGradientBoosting.csv',index = False)"
      ],
      "execution_count": 88,
      "outputs": []
    },
    {
      "cell_type": "markdown",
      "metadata": {
        "id": "kah8NovL5QEx"
      },
      "source": [
        "##### *Random Forest Regressor*"
      ]
    },
    {
      "cell_type": "code",
      "metadata": {
        "id": "s82801lz5O8I",
        "colab": {
          "base_uri": "https://localhost:8080/"
        },
        "outputId": "c0a2e1f3-7e07-422f-83c5-04f7e2222cd7"
      },
      "source": [
        "rf = RandomForestRegressor(max_depth=8, n_estimators=500,random_state=42,verbose=False)\n",
        "rf.fit(x,y)"
      ],
      "execution_count": 81,
      "outputs": [
        {
          "output_type": "execute_result",
          "data": {
            "text/plain": [
              "RandomForestRegressor(bootstrap=True, ccp_alpha=0.0, criterion='mse',\n",
              "                      max_depth=8, max_features='auto', max_leaf_nodes=None,\n",
              "                      max_samples=None, min_impurity_decrease=0.0,\n",
              "                      min_impurity_split=None, min_samples_leaf=1,\n",
              "                      min_samples_split=2, min_weight_fraction_leaf=0.0,\n",
              "                      n_estimators=500, n_jobs=None, oob_score=False,\n",
              "                      random_state=42, verbose=False, warm_start=False)"
            ]
          },
          "metadata": {
            "tags": []
          },
          "execution_count": 81
        }
      ]
    },
    {
      "cell_type": "code",
      "metadata": {
        "id": "6pQoXdec6aBx"
      },
      "source": [
        "# Predict the model \n",
        "y_pred_rf = rf.predict(test_x)"
      ],
      "execution_count": 82,
      "outputs": []
    },
    {
      "cell_type": "code",
      "metadata": {
        "id": "pDHYzlvj8Cey",
        "colab": {
          "base_uri": "https://localhost:8080/",
          "height": 416
        },
        "outputId": "87030001-12c2-4e00-ac72-ee047d6bac9a"
      },
      "source": [
        "# Genrating Submission For Random Forest without train_test_split\n",
        "final_submissions_rf = ntest[['id','visitors']]\n",
        "final_submissions_rf['id'] = ntest[['id']]\n",
        "final_submissions_rf['visitors'] = pd.DataFrame({'visitors': y_pred_rf})\n",
        "final_submissions_rf = final_submissions_rf.reindex(['id','visitors'],axis=1)\n",
        "final_submissions_rf.head()"
      ],
      "execution_count": 83,
      "outputs": [
        {
          "output_type": "stream",
          "text": [
            "/usr/local/lib/python3.6/dist-packages/ipykernel_launcher.py:3: SettingWithCopyWarning: \n",
            "A value is trying to be set on a copy of a slice from a DataFrame.\n",
            "Try using .loc[row_indexer,col_indexer] = value instead\n",
            "\n",
            "See the caveats in the documentation: https://pandas.pydata.org/pandas-docs/stable/user_guide/indexing.html#returning-a-view-versus-a-copy\n",
            "  This is separate from the ipykernel package so we can avoid doing imports until\n",
            "/usr/local/lib/python3.6/dist-packages/ipykernel_launcher.py:4: SettingWithCopyWarning: \n",
            "A value is trying to be set on a copy of a slice from a DataFrame.\n",
            "Try using .loc[row_indexer,col_indexer] = value instead\n",
            "\n",
            "See the caveats in the documentation: https://pandas.pydata.org/pandas-docs/stable/user_guide/indexing.html#returning-a-view-versus-a-copy\n",
            "  after removing the cwd from sys.path.\n"
          ],
          "name": "stderr"
        },
        {
          "output_type": "execute_result",
          "data": {
            "text/html": [
              "<div>\n",
              "<style scoped>\n",
              "    .dataframe tbody tr th:only-of-type {\n",
              "        vertical-align: middle;\n",
              "    }\n",
              "\n",
              "    .dataframe tbody tr th {\n",
              "        vertical-align: top;\n",
              "    }\n",
              "\n",
              "    .dataframe thead th {\n",
              "        text-align: right;\n",
              "    }\n",
              "</style>\n",
              "<table border=\"1\" class=\"dataframe\">\n",
              "  <thead>\n",
              "    <tr style=\"text-align: right;\">\n",
              "      <th></th>\n",
              "      <th>id</th>\n",
              "      <th>visitors</th>\n",
              "    </tr>\n",
              "  </thead>\n",
              "  <tbody>\n",
              "    <tr>\n",
              "      <th>0</th>\n",
              "      <td>air_e3020992d5fe5dfd_2017-04-06</td>\n",
              "      <td>10.976295</td>\n",
              "    </tr>\n",
              "    <tr>\n",
              "      <th>1</th>\n",
              "      <td>air_e3020992d5fe5dfd_2017-04-07</td>\n",
              "      <td>15.869616</td>\n",
              "    </tr>\n",
              "    <tr>\n",
              "      <th>2</th>\n",
              "      <td>air_e3020992d5fe5dfd_2017-04-08</td>\n",
              "      <td>12.770211</td>\n",
              "    </tr>\n",
              "    <tr>\n",
              "      <th>3</th>\n",
              "      <td>air_e3020992d5fe5dfd_2017-04-10</td>\n",
              "      <td>10.506870</td>\n",
              "    </tr>\n",
              "    <tr>\n",
              "      <th>4</th>\n",
              "      <td>air_e3020992d5fe5dfd_2017-04-11</td>\n",
              "      <td>10.973663</td>\n",
              "    </tr>\n",
              "  </tbody>\n",
              "</table>\n",
              "</div>"
            ],
            "text/plain": [
              "                                id   visitors\n",
              "0  air_e3020992d5fe5dfd_2017-04-06  10.976295\n",
              "1  air_e3020992d5fe5dfd_2017-04-07  15.869616\n",
              "2  air_e3020992d5fe5dfd_2017-04-08  12.770211\n",
              "3  air_e3020992d5fe5dfd_2017-04-10  10.506870\n",
              "4  air_e3020992d5fe5dfd_2017-04-11  10.973663"
            ]
          },
          "metadata": {
            "tags": []
          },
          "execution_count": 83
        }
      ]
    },
    {
      "cell_type": "code",
      "metadata": {
        "id": "7Jm1uceT8qX6"
      },
      "source": [
        "final_submissions_rf.to_csv('RandomForest.csv',index = False)"
      ],
      "execution_count": 84,
      "outputs": []
    },
    {
      "cell_type": "code",
      "metadata": {
        "id": "76oeusoyK6Qu"
      },
      "source": [
        ""
      ],
      "execution_count": null,
      "outputs": []
    }
  ]
}